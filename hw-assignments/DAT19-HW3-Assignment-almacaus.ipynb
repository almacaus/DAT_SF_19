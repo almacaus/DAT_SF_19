{
 "cells": [
  {
   "cell_type": "markdown",
   "metadata": {},
   "source": [
    "# DAT 19: Homework 3 Assignment - Clustering with K-means"
   ]
  },
  {
   "cell_type": "markdown",
   "metadata": {},
   "source": [
    "## Instructions\n",
    "\n",
    "In this homework assignment, we will get practice with our first unsupervised learning technique, clustering. We will analyze wholesale purchases by 440 clients of a wholesale distributor. \n",
    "\n",
    "Please do all your analysis to answer the questions below in this Jupyter notebook. Show your work.\n",
    "\n",
    "**Please submit your completed notebook by 6:30PM on Wednesday, January 20.**"
   ]
  },
  {
   "cell_type": "markdown",
   "metadata": {},
   "source": [
    "## About the Data\n",
    "\n",
    "The [Wholesale Customers dataset](http://archive.ics.uci.edu/ml/datasets/Wholesale+customers) and a description of the data is available from the UCI ML Repository."
   ]
  },
  {
   "cell_type": "markdown",
   "metadata": {},
   "source": [
    "## Homework Assignment"
   ]
  },
  {
   "cell_type": "markdown",
   "metadata": {},
   "source": [
    "**1) Load the dataset. Check for missing values, perform any normalization that you think is necessary (remember that K-means uses the Euclidean Distance function).**"
   ]
  },
  {
   "cell_type": "code",
   "execution_count": 1,
   "metadata": {
    "collapsed": true
   },
   "outputs": [],
   "source": [
    "# loading useful libraries\n",
    "import pandas as pd\n",
    "import numpy as np\n",
    "from sklearn import preprocessing\n",
    "from sklearn.cluster import KMeans"
   ]
  },
  {
   "cell_type": "code",
   "execution_count": 5,
   "metadata": {
    "collapsed": false
   },
   "outputs": [
    {
     "name": "stdout",
     "output_type": "stream",
     "text": [
      "(440, 8)\n"
     ]
    },
    {
     "data": {
      "text/html": [
       "<div>\n",
       "<table border=\"1\" class=\"dataframe\">\n",
       "  <thead>\n",
       "    <tr style=\"text-align: right;\">\n",
       "      <th></th>\n",
       "      <th>Channel</th>\n",
       "      <th>Region</th>\n",
       "      <th>Fresh</th>\n",
       "      <th>Milk</th>\n",
       "      <th>Grocery</th>\n",
       "      <th>Frozen</th>\n",
       "      <th>Detergents_Paper</th>\n",
       "      <th>Delicassen</th>\n",
       "    </tr>\n",
       "  </thead>\n",
       "  <tbody>\n",
       "    <tr>\n",
       "      <th>0</th>\n",
       "      <td>2</td>\n",
       "      <td>3</td>\n",
       "      <td>12669</td>\n",
       "      <td>9656</td>\n",
       "      <td>7561</td>\n",
       "      <td>214</td>\n",
       "      <td>2674</td>\n",
       "      <td>1338</td>\n",
       "    </tr>\n",
       "    <tr>\n",
       "      <th>1</th>\n",
       "      <td>2</td>\n",
       "      <td>3</td>\n",
       "      <td>7057</td>\n",
       "      <td>9810</td>\n",
       "      <td>9568</td>\n",
       "      <td>1762</td>\n",
       "      <td>3293</td>\n",
       "      <td>1776</td>\n",
       "    </tr>\n",
       "    <tr>\n",
       "      <th>2</th>\n",
       "      <td>2</td>\n",
       "      <td>3</td>\n",
       "      <td>6353</td>\n",
       "      <td>8808</td>\n",
       "      <td>7684</td>\n",
       "      <td>2405</td>\n",
       "      <td>3516</td>\n",
       "      <td>7844</td>\n",
       "    </tr>\n",
       "    <tr>\n",
       "      <th>3</th>\n",
       "      <td>1</td>\n",
       "      <td>3</td>\n",
       "      <td>13265</td>\n",
       "      <td>1196</td>\n",
       "      <td>4221</td>\n",
       "      <td>6404</td>\n",
       "      <td>507</td>\n",
       "      <td>1788</td>\n",
       "    </tr>\n",
       "    <tr>\n",
       "      <th>4</th>\n",
       "      <td>2</td>\n",
       "      <td>3</td>\n",
       "      <td>22615</td>\n",
       "      <td>5410</td>\n",
       "      <td>7198</td>\n",
       "      <td>3915</td>\n",
       "      <td>1777</td>\n",
       "      <td>5185</td>\n",
       "    </tr>\n",
       "  </tbody>\n",
       "</table>\n",
       "</div>"
      ],
      "text/plain": [
       "   Channel  Region  Fresh  Milk  Grocery  Frozen  Detergents_Paper  Delicassen\n",
       "0        2       3  12669  9656     7561     214              2674        1338\n",
       "1        2       3   7057  9810     9568    1762              3293        1776\n",
       "2        2       3   6353  8808     7684    2405              3516        7844\n",
       "3        1       3  13265  1196     4221    6404               507        1788\n",
       "4        2       3  22615  5410     7198    3915              1777        5185"
      ]
     },
     "execution_count": 5,
     "metadata": {},
     "output_type": "execute_result"
    }
   ],
   "source": [
    "#your code here# load in dataset. check for missing values and do normalization\n",
    "# if necessary. \n",
    "# Read in file as a pandas DataFrame object\n",
    "dataset = pd.read_csv('C:\\\\Users\\\\Nermin\\\\DAT_SF_19\\\\hw-assignments\\\\Wholesale_customers_data.csv')\n",
    "print dataset.shape # Number of rows and columns\n",
    "dataset.head()"
   ]
  },
  {
   "cell_type": "code",
   "execution_count": 6,
   "metadata": {
    "collapsed": false
   },
   "outputs": [
    {
     "data": {
      "text/plain": [
       "False"
      ]
     },
     "execution_count": 6,
     "metadata": {},
     "output_type": "execute_result"
    }
   ],
   "source": [
    "# Checking for missing values\n",
    "dataset.isnull().values.any() # no null values"
   ]
  },
  {
   "cell_type": "code",
   "execution_count": 7,
   "metadata": {
    "collapsed": false
   },
   "outputs": [
    {
     "data": {
      "text/plain": [
       "array([[ 2.        ,  3.        ,  0.70833271,  0.53987376,  0.42274083,\n",
       "         0.01196489,  0.14950522,  0.07480852],\n",
       "       [ 2.        ,  3.        ,  0.44219826,  0.61470384,  0.59953989,\n",
       "         0.11040858,  0.20634248,  0.11128583],\n",
       "       [ 2.        ,  3.        ,  0.39655169,  0.5497918 ,  0.47963217,\n",
       "         0.15011913,  0.2194673 ,  0.48961931],\n",
       "       [ 1.        ,  3.        ,  0.85683654,  0.07725417,  0.27265036,\n",
       "         0.41365859,  0.03274905,  0.11549369],\n",
       "       [ 2.        ,  3.        ,  0.89541593,  0.21420297,  0.28499685,\n",
       "         0.1550101 ,  0.07035835,  0.20529434],\n",
       "       [ 2.        ,  3.        ,  0.68494418,  0.60097249,  0.37299733,\n",
       "         0.048462  ,  0.13061456,  0.10558313],\n",
       "       [ 2.        ,  3.        ,  0.82447622,  0.21750779,  0.47424721,\n",
       "         0.03263637,  0.21349623,  0.03705587],\n",
       "       [ 2.        ,  3.        ,  0.54803634,  0.35836761,  0.68159263,\n",
       "         0.12068514,  0.24014101,  0.18554707],\n",
       "       [ 1.        ,  3.        ,  0.62545691,  0.3826374 ,  0.64947664,\n",
       "         0.0445781 ,  0.17999062,  0.07866723],\n",
       "       [ 2.        ,  3.        ,  0.25014268,  0.46201011,  0.78637095,\n",
       "         0.04827096,  0.30924232,  0.08737918]])"
      ]
     },
     "execution_count": 7,
     "metadata": {},
     "output_type": "execute_result"
    }
   ],
   "source": [
    "##### performing normalization on the numeric features\n",
    "### Need to turn into a numpy array first\n",
    "dataset_array = dataset.as_matrix()\n",
    "# Getting numeric features\n",
    "dataset_numerics = dataset_array[:,2:]\n",
    "# Delete those numeric features from the original dataset\n",
    "dataset_array = np.delete(dataset_array,[2,3,4,5,6,7], axis=1)\n",
    "# Cast dataset from a mix of ints and floats to all floats\n",
    "dataset_numerics = dataset_numerics.astype(float)\n",
    "# Normalize the numeric features\n",
    "dataset_numerics_norm = preprocessing.normalize(dataset_numerics)\n",
    "# Put the normalized numeric features back into the dataset array\n",
    "dataset_array = np.append(dataset_array, dataset_numerics_norm, axis=1)\n",
    "dataset_array[:10,:] # look at first ten rows"
   ]
  },
  {
   "cell_type": "markdown",
   "metadata": {},
   "source": [
    "**2.1) Look at the dataset. There are both continuous and categorical variables. What are the categorical variables? From a business perspective, what do those categorical variables represent?**"
   ]
  },
  {
   "cell_type": "markdown",
   "metadata": {
    "collapsed": true
   },
   "source": [
    "The categorical variables are Channel and Region Channel is what type of store the item was sold in - Horeca (Hotel/Restaurant/Cafe) or Retail channel (Nominal) Region is what geographical region the item was sold in - Lisnon, Oporto or Other (Nominal)"
   ]
  },
  {
   "cell_type": "markdown",
   "metadata": {},
   "source": [
    "**2.2) What results might we expect from the k-means clustering if we were to run it on the dataset as-is? Explain your thinking in words.**"
   ]
  },
  {
   "cell_type": "markdown",
   "metadata": {
    "collapsed": true
   },
   "source": [
    "If we ran the k-means clustering as is, it wouldn't work exactly correct. It would treat the categories as numeric features and in that, each change in category (int) should have the same affect but obviously that's not true."
   ]
  },
  {
   "cell_type": "markdown",
   "metadata": {},
   "source": [
    "**3) Using ONLY the continuous features in the dataset, apply the K-means algorithm to find clusters in the data.**"
   ]
  },
  {
   "cell_type": "code",
   "execution_count": 8,
   "metadata": {
    "collapsed": false
   },
   "outputs": [
    {
     "data": {
      "text/plain": [
       "array([7, 4, 5, 3, 7, 7, 7, 4, 4, 2, 2, 1, 7, 7, 7, 1, 2, 5, 7, 4, 1, 3, 1,\n",
       "       5, 7, 7, 1, 1, 0, 1, 7, 5, 1, 1, 4, 2, 1, 4, 0, 1, 3, 1, 4, 2, 4, 0,\n",
       "       2, 4, 4, 2, 3, 4, 1, 0, 1, 4, 0, 0, 1, 4, 4, 4, 4, 4, 3, 2, 2, 7, 5,\n",
       "       1, 3, 7, 6, 3, 4, 1, 6, 2, 1, 0, 7, 2, 4, 1, 7, 2, 0, 1, 6, 1, 1, 3,\n",
       "       0, 6, 0, 2, 2, 6, 6, 3, 4, 2, 0, 1, 1, 1, 2, 4, 0, 2, 1, 4, 3, 1, 1,\n",
       "       1, 1, 7, 1, 3, 1, 3, 1, 4, 1, 1, 3, 7, 0, 1, 3, 1, 1, 1, 1, 7, 5, 0,\n",
       "       7, 5, 7, 1, 1, 3, 1, 4, 1, 7, 3, 1, 1, 5, 1, 5, 1, 2, 2, 1, 2, 2, 2,\n",
       "       1, 1, 2, 4, 4, 4, 4, 1, 3, 2, 0, 0, 2, 2, 2, 1, 7, 7, 5, 7, 1, 2, 5,\n",
       "       2, 3, 6, 0, 4, 0, 3, 1, 7, 2, 7, 3, 3, 2, 7, 1, 2, 2, 7, 2, 4, 2, 1,\n",
       "       2, 2, 2, 1, 2, 1, 0, 2, 2, 2, 1, 2, 3, 1, 4, 6, 6, 1, 7, 7, 3, 4, 3,\n",
       "       3, 0, 1, 0, 1, 0, 1, 1, 1, 1, 3, 1, 1, 7, 4, 2, 1, 1, 1, 3, 3, 2, 6,\n",
       "       7, 5, 1, 7, 3, 1, 1, 7, 3, 1, 2, 2, 5, 2, 1, 4, 1, 6, 5, 0, 1, 5, 5,\n",
       "       1, 6, 3, 7, 5, 7, 1, 3, 1, 1, 1, 3, 1, 1, 4, 7, 6, 0, 1, 7, 1, 4, 4,\n",
       "       2, 7, 2, 2, 2, 2, 0, 2, 1, 7, 0, 6, 1, 2, 3, 7, 0, 3, 2, 1, 0, 5, 7,\n",
       "       1, 7, 1, 6, 3, 4, 3, 6, 7, 4, 1, 2, 3, 7, 1, 3, 6, 6, 2, 2, 0, 2, 3,\n",
       "       2, 2, 7, 7, 2, 3, 2, 4, 2, 3, 2, 1, 2, 5, 0, 1, 1, 4, 7, 7, 4, 1, 3,\n",
       "       1, 1, 1, 3, 5, 7, 7, 1, 2, 1, 5, 4, 1, 3, 1, 6, 5, 1, 5, 1, 1, 1, 6,\n",
       "       5, 0, 3, 1, 1, 0, 3, 3, 1, 3, 3, 1, 1, 1, 1, 3, 2, 7, 7, 7, 5, 2, 6,\n",
       "       6, 4, 0, 4, 2, 7, 2, 7, 1, 1, 7, 6, 4, 3, 0, 7, 2, 6, 1, 5, 7, 3, 1,\n",
       "       4, 1, 4])"
      ]
     },
     "execution_count": 8,
     "metadata": {},
     "output_type": "execute_result"
    }
   ],
   "source": [
    "#### doing k-means using only the numeric features\n",
    "# Getting only numeric features\n",
    "dataset_numerics = dataset_array[:,2:]\n",
    "# Getting the model object\n",
    "model = KMeans() # K-Means object\n",
    "# fitting the model to dataset\n",
    "model.fit(dataset_numerics)\n",
    "labels = model.labels_\n",
    "centroids = model.cluster_centers_\n",
    "labels"
   ]
  },
  {
   "cell_type": "markdown",
   "metadata": {},
   "source": [
    "**4.1) Plot the Silhouette Coefficient as a function of the number of clusters (remember that you set the number of clusters as an input to K-means).**"
   ]
  },
  {
   "cell_type": "code",
   "execution_count": null,
   "metadata": {
    "collapsed": true
   },
   "outputs": [],
   "source": []
  },
  {
   "cell_type": "markdown",
   "metadata": {},
   "source": [
    "**4.2) What is the ideal value for k, the number of clusters? Why?**"
   ]
  },
  {
   "cell_type": "code",
   "execution_count": 3,
   "metadata": {
    "collapsed": true
   },
   "outputs": [],
   "source": [
    "#your text based answer here. Feel free to convert this cell to markdown."
   ]
  },
  {
   "cell_type": "markdown",
   "metadata": {},
   "source": [
    "**4.3) How does your answer for 3.2 compare with your thoughts from 2.2 above?**"
   ]
  },
  {
   "cell_type": "code",
   "execution_count": null,
   "metadata": {
    "collapsed": true
   },
   "outputs": [],
   "source": [
    "#your text based answer here. Feel free to convert this cell to markdown."
   ]
  },
  {
   "cell_type": "markdown",
   "metadata": {},
   "source": [
    "### Extra Credit Questions\n",
    "**The following questions are strongly encouraged, but not required for this homework assignment.**"
   ]
  },
  {
   "cell_type": "markdown",
   "metadata": {},
   "source": [
    "**5) Read the scikit-learn user guide section about [clustering](http://scikit-learn.org/stable/modules/clustering.html). Pay particular attention to the section about [assumptions](http://scikit-learn.org/stable/auto_examples/cluster/plot_kmeans_assumptions.html#example-cluster-plot-kmeans-assumptions-py).**"
   ]
  },
  {
   "cell_type": "markdown",
   "metadata": {},
   "source": [
    "**6) PCA & PLOTTING:** <br> With six continuous features, plotting our clusters in two dimensions will be challenging. We can use [Principal Components Analysis](http://scikit-learn.org/stable/modules/decomposition.html#pca) and then plot only the \"top two\" dimensions. More technically, these are the dimensions that capture most of the variance in our data set. For this extra credit question, read about [PCA in the sklearn.decomposition module](http://scikit-learn.org/stable/modules/generated/sklearn.decomposition.PCA.html), apply it to the wholesale dataset, repeat the k-means clustering, and plot your results using only the top two principal components."
   ]
  },
  {
   "cell_type": "code",
   "execution_count": 4,
   "metadata": {
    "collapsed": true
   },
   "outputs": [],
   "source": [
    "#your code here, should you choose to attempt it"
   ]
  }
 ],
 "metadata": {
  "kernelspec": {
   "display_name": "Python 2",
   "language": "python",
   "name": "python2"
  },
  "language_info": {
   "codemirror_mode": {
    "name": "ipython",
    "version": 2
   },
   "file_extension": ".py",
   "mimetype": "text/x-python",
   "name": "python",
   "nbconvert_exporter": "python",
   "pygments_lexer": "ipython2",
   "version": "2.7.11"
  }
 },
 "nbformat": 4,
 "nbformat_minor": 0
}
