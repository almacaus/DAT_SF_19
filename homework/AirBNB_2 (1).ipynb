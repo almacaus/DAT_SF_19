{
 "cells": [
  {
   "cell_type": "markdown",
   "metadata": {},
   "source": [
    "File descriptions\n",
    "\n",
    "train_users.csv - the training set of users\n",
    "\n",
    "test_users.csv - the test set of users\n",
    "\n",
    "id: user id\n",
    "\n",
    "date_account_created: the date of account creation\n",
    "\n",
    "timestamp_first_active: timestamp of the first activity, note that it can be earlier than date_account_created or\n",
    "date_first_booking because a user can search before signing up\n",
    "\n",
    "date_first_booking: date of first booking\n",
    "\n",
    "gender\n",
    "\n",
    "age\n",
    "\n",
    "signup_method\n",
    "\n",
    "signup_flow: the page a user came to signup up from\n",
    "\n",
    "language: international language preference\n",
    "\n",
    "affiliate_channel: what kind of paid marketing\n",
    "\n",
    "affiliate_provider: where the marketing is e.g. google, craigslist, other\n",
    "\n",
    "first_affiliate_tracked: whats the first marketing the user interacted with before the signing up\n",
    "\n",
    "signup_app\n",
    "\n",
    "first_device_type\n",
    "\n",
    "first_browser\n",
    "\n",
    "country_destination: this is the target variable you are to predict\n"
   ]
  },
  {
   "cell_type": "code",
   "execution_count": 35,
   "metadata": {
    "collapsed": false
   },
   "outputs": [],
   "source": [
    "# AirBNB script\n",
    "import sys\n",
    "import pandas as pd\n",
    "import matplotlib.pyplot as plt\n",
    "% matplotlib inline\n",
    "import numpy as np \n",
    "from pandasql import sqldf\n",
    "from sklearn.preprocessing import LabelEncoder\n",
    "from xgboost.sklearn import XGBClassifier\n",
    "np.random.seed(0)"
   ]
  },
  {
   "cell_type": "markdown",
   "metadata": {},
   "source": [
    "Reading in and joining the train and test user datasets"
   ]
  },
  {
   "cell_type": "code",
   "execution_count": 36,
   "metadata": {
    "collapsed": false
   },
   "outputs": [
    {
     "data": {
      "text/html": [
       "<div>\n",
       "<table border=\"1\" class=\"dataframe\">\n",
       "  <thead>\n",
       "    <tr style=\"text-align: right;\">\n",
       "      <th></th>\n",
       "      <th>id</th>\n",
       "      <th>date_account_created</th>\n",
       "      <th>timestamp_first_active</th>\n",
       "      <th>date_first_booking</th>\n",
       "      <th>gender</th>\n",
       "      <th>age</th>\n",
       "      <th>signup_method</th>\n",
       "      <th>signup_flow</th>\n",
       "      <th>language</th>\n",
       "      <th>affiliate_channel</th>\n",
       "      <th>affiliate_provider</th>\n",
       "      <th>first_affiliate_tracked</th>\n",
       "      <th>signup_app</th>\n",
       "      <th>first_device_type</th>\n",
       "      <th>first_browser</th>\n",
       "    </tr>\n",
       "  </thead>\n",
       "  <tbody>\n",
       "    <tr>\n",
       "      <th>0</th>\n",
       "      <td>gxn3p5htnn</td>\n",
       "      <td>2010-06-28</td>\n",
       "      <td>20090319043255</td>\n",
       "      <td>NaN</td>\n",
       "      <td>-unknown-</td>\n",
       "      <td>NaN</td>\n",
       "      <td>facebook</td>\n",
       "      <td>0</td>\n",
       "      <td>en</td>\n",
       "      <td>direct</td>\n",
       "      <td>direct</td>\n",
       "      <td>untracked</td>\n",
       "      <td>Web</td>\n",
       "      <td>Mac Desktop</td>\n",
       "      <td>Chrome</td>\n",
       "    </tr>\n",
       "    <tr>\n",
       "      <th>1</th>\n",
       "      <td>820tgsjxq7</td>\n",
       "      <td>2011-05-25</td>\n",
       "      <td>20090523174809</td>\n",
       "      <td>NaN</td>\n",
       "      <td>MALE</td>\n",
       "      <td>38</td>\n",
       "      <td>facebook</td>\n",
       "      <td>0</td>\n",
       "      <td>en</td>\n",
       "      <td>seo</td>\n",
       "      <td>google</td>\n",
       "      <td>untracked</td>\n",
       "      <td>Web</td>\n",
       "      <td>Mac Desktop</td>\n",
       "      <td>Chrome</td>\n",
       "    </tr>\n",
       "    <tr>\n",
       "      <th>2</th>\n",
       "      <td>4ft3gnwmtx</td>\n",
       "      <td>2010-09-28</td>\n",
       "      <td>20090609231247</td>\n",
       "      <td>2010-08-02</td>\n",
       "      <td>FEMALE</td>\n",
       "      <td>56</td>\n",
       "      <td>basic</td>\n",
       "      <td>3</td>\n",
       "      <td>en</td>\n",
       "      <td>direct</td>\n",
       "      <td>direct</td>\n",
       "      <td>untracked</td>\n",
       "      <td>Web</td>\n",
       "      <td>Windows Desktop</td>\n",
       "      <td>IE</td>\n",
       "    </tr>\n",
       "    <tr>\n",
       "      <th>3</th>\n",
       "      <td>bjjt8pjhuk</td>\n",
       "      <td>2011-12-05</td>\n",
       "      <td>20091031060129</td>\n",
       "      <td>2012-09-08</td>\n",
       "      <td>FEMALE</td>\n",
       "      <td>42</td>\n",
       "      <td>facebook</td>\n",
       "      <td>0</td>\n",
       "      <td>en</td>\n",
       "      <td>direct</td>\n",
       "      <td>direct</td>\n",
       "      <td>untracked</td>\n",
       "      <td>Web</td>\n",
       "      <td>Mac Desktop</td>\n",
       "      <td>Firefox</td>\n",
       "    </tr>\n",
       "    <tr>\n",
       "      <th>4</th>\n",
       "      <td>87mebub9p4</td>\n",
       "      <td>2010-09-14</td>\n",
       "      <td>20091208061105</td>\n",
       "      <td>2010-02-18</td>\n",
       "      <td>-unknown-</td>\n",
       "      <td>41</td>\n",
       "      <td>basic</td>\n",
       "      <td>0</td>\n",
       "      <td>en</td>\n",
       "      <td>direct</td>\n",
       "      <td>direct</td>\n",
       "      <td>untracked</td>\n",
       "      <td>Web</td>\n",
       "      <td>Mac Desktop</td>\n",
       "      <td>Chrome</td>\n",
       "    </tr>\n",
       "    <tr>\n",
       "      <th>5</th>\n",
       "      <td>osr2jwljor</td>\n",
       "      <td>2010-01-01</td>\n",
       "      <td>20100101215619</td>\n",
       "      <td>2010-01-02</td>\n",
       "      <td>-unknown-</td>\n",
       "      <td>NaN</td>\n",
       "      <td>basic</td>\n",
       "      <td>0</td>\n",
       "      <td>en</td>\n",
       "      <td>other</td>\n",
       "      <td>other</td>\n",
       "      <td>omg</td>\n",
       "      <td>Web</td>\n",
       "      <td>Mac Desktop</td>\n",
       "      <td>Chrome</td>\n",
       "    </tr>\n",
       "    <tr>\n",
       "      <th>6</th>\n",
       "      <td>lsw9q7uk0j</td>\n",
       "      <td>2010-01-02</td>\n",
       "      <td>20100102012558</td>\n",
       "      <td>2010-01-05</td>\n",
       "      <td>FEMALE</td>\n",
       "      <td>46</td>\n",
       "      <td>basic</td>\n",
       "      <td>0</td>\n",
       "      <td>en</td>\n",
       "      <td>other</td>\n",
       "      <td>craigslist</td>\n",
       "      <td>untracked</td>\n",
       "      <td>Web</td>\n",
       "      <td>Mac Desktop</td>\n",
       "      <td>Safari</td>\n",
       "    </tr>\n",
       "    <tr>\n",
       "      <th>7</th>\n",
       "      <td>0d01nltbrs</td>\n",
       "      <td>2010-01-03</td>\n",
       "      <td>20100103191905</td>\n",
       "      <td>2010-01-13</td>\n",
       "      <td>FEMALE</td>\n",
       "      <td>47</td>\n",
       "      <td>basic</td>\n",
       "      <td>0</td>\n",
       "      <td>en</td>\n",
       "      <td>direct</td>\n",
       "      <td>direct</td>\n",
       "      <td>omg</td>\n",
       "      <td>Web</td>\n",
       "      <td>Mac Desktop</td>\n",
       "      <td>Safari</td>\n",
       "    </tr>\n",
       "    <tr>\n",
       "      <th>8</th>\n",
       "      <td>a1vcnhxeij</td>\n",
       "      <td>2010-01-04</td>\n",
       "      <td>20100104004211</td>\n",
       "      <td>2010-07-29</td>\n",
       "      <td>FEMALE</td>\n",
       "      <td>50</td>\n",
       "      <td>basic</td>\n",
       "      <td>0</td>\n",
       "      <td>en</td>\n",
       "      <td>other</td>\n",
       "      <td>craigslist</td>\n",
       "      <td>untracked</td>\n",
       "      <td>Web</td>\n",
       "      <td>Mac Desktop</td>\n",
       "      <td>Safari</td>\n",
       "    </tr>\n",
       "    <tr>\n",
       "      <th>9</th>\n",
       "      <td>6uh8zyj2gn</td>\n",
       "      <td>2010-01-04</td>\n",
       "      <td>20100104023758</td>\n",
       "      <td>2010-01-04</td>\n",
       "      <td>-unknown-</td>\n",
       "      <td>46</td>\n",
       "      <td>basic</td>\n",
       "      <td>0</td>\n",
       "      <td>en</td>\n",
       "      <td>other</td>\n",
       "      <td>craigslist</td>\n",
       "      <td>omg</td>\n",
       "      <td>Web</td>\n",
       "      <td>Mac Desktop</td>\n",
       "      <td>Firefox</td>\n",
       "    </tr>\n",
       "  </tbody>\n",
       "</table>\n",
       "</div>"
      ],
      "text/plain": [
       "           id date_account_created  timestamp_first_active date_first_booking  \\\n",
       "0  gxn3p5htnn           2010-06-28          20090319043255                NaN   \n",
       "1  820tgsjxq7           2011-05-25          20090523174809                NaN   \n",
       "2  4ft3gnwmtx           2010-09-28          20090609231247         2010-08-02   \n",
       "3  bjjt8pjhuk           2011-12-05          20091031060129         2012-09-08   \n",
       "4  87mebub9p4           2010-09-14          20091208061105         2010-02-18   \n",
       "5  osr2jwljor           2010-01-01          20100101215619         2010-01-02   \n",
       "6  lsw9q7uk0j           2010-01-02          20100102012558         2010-01-05   \n",
       "7  0d01nltbrs           2010-01-03          20100103191905         2010-01-13   \n",
       "8  a1vcnhxeij           2010-01-04          20100104004211         2010-07-29   \n",
       "9  6uh8zyj2gn           2010-01-04          20100104023758         2010-01-04   \n",
       "\n",
       "      gender  age signup_method  signup_flow language affiliate_channel  \\\n",
       "0  -unknown-  NaN      facebook            0       en            direct   \n",
       "1       MALE   38      facebook            0       en               seo   \n",
       "2     FEMALE   56         basic            3       en            direct   \n",
       "3     FEMALE   42      facebook            0       en            direct   \n",
       "4  -unknown-   41         basic            0       en            direct   \n",
       "5  -unknown-  NaN         basic            0       en             other   \n",
       "6     FEMALE   46         basic            0       en             other   \n",
       "7     FEMALE   47         basic            0       en            direct   \n",
       "8     FEMALE   50         basic            0       en             other   \n",
       "9  -unknown-   46         basic            0       en             other   \n",
       "\n",
       "  affiliate_provider first_affiliate_tracked signup_app first_device_type  \\\n",
       "0             direct               untracked        Web       Mac Desktop   \n",
       "1             google               untracked        Web       Mac Desktop   \n",
       "2             direct               untracked        Web   Windows Desktop   \n",
       "3             direct               untracked        Web       Mac Desktop   \n",
       "4             direct               untracked        Web       Mac Desktop   \n",
       "5              other                     omg        Web       Mac Desktop   \n",
       "6         craigslist               untracked        Web       Mac Desktop   \n",
       "7             direct                     omg        Web       Mac Desktop   \n",
       "8         craigslist               untracked        Web       Mac Desktop   \n",
       "9         craigslist                     omg        Web       Mac Desktop   \n",
       "\n",
       "  first_browser  \n",
       "0        Chrome  \n",
       "1        Chrome  \n",
       "2            IE  \n",
       "3       Firefox  \n",
       "4        Chrome  \n",
       "5        Chrome  \n",
       "6        Safari  \n",
       "7        Safari  \n",
       "8        Safari  \n",
       "9       Firefox  "
      ]
     },
     "execution_count": 36,
     "metadata": {},
     "output_type": "execute_result"
    }
   ],
   "source": [
    "# Reading user datasets into pandas. Want to predict destination country (target feature)\n",
    "orig_train_users = pd.read_csv('/Users/nicholaslipanovich/Documents/airbnb_kaggle/train_users_2.csv')\n",
    "orig_test_users = pd.read_csv('/Users/nicholaslipanovich/Documents/airbnb_kaggle/test_users.csv')\n",
    "# getting the labels from the training set into a numpy array\n",
    "labels = orig_train_users['country_destination'].values\n",
    "# dropping the labels column from the training set\n",
    "orig_train_users = orig_train_users.drop(['country_destination'], axis=1)\n",
    "# getting the ids from the test set into a numpy array\n",
    "id_test = orig_test_users['id']\n",
    "# getting the number of rows in the training set to use when splitting the dataset back into test and train\n",
    "piv_train = orig_train_users.shape[0]\n",
    "orig_train_users.head(n=10)"
   ]
  },
  {
   "cell_type": "code",
   "execution_count": 37,
   "metadata": {
    "collapsed": false
   },
   "outputs": [],
   "source": [
    "# Creating a dataframe with train+test data\n",
    "train_plus_test = pd.concat((orig_train_users, orig_test_users), axis=0, ignore_index=True)\n",
    "# Removing data_first_booking... why? This column is all NaNs in the test set.\n",
    "train_plus_test = train_plus_test.drop(['date_first_booking'], axis=1)\n",
    "# Filling NaNs in with negative ones\n",
    "train_plus_test = train_plus_test.fillna(-1)"
   ]
  },
  {
   "cell_type": "markdown",
   "metadata": {},
   "source": [
    "Feature Engineering"
   ]
  },
  {
   "cell_type": "code",
   "execution_count": 38,
   "metadata": {
    "collapsed": false
   },
   "outputs": [
    {
     "name": "stdout",
     "output_type": "stream",
     "text": [
      "[[2010    6   28]\n",
      " [2011    5   25]]\n"
     ]
    },
    {
     "data": {
      "text/html": [
       "<div>\n",
       "<table border=\"1\" class=\"dataframe\">\n",
       "  <thead>\n",
       "    <tr style=\"text-align: right;\">\n",
       "      <th></th>\n",
       "      <th>id</th>\n",
       "      <th>timestamp_first_active</th>\n",
       "      <th>gender</th>\n",
       "      <th>age</th>\n",
       "      <th>signup_method</th>\n",
       "      <th>signup_flow</th>\n",
       "      <th>language</th>\n",
       "      <th>affiliate_channel</th>\n",
       "      <th>affiliate_provider</th>\n",
       "      <th>first_affiliate_tracked</th>\n",
       "      <th>signup_app</th>\n",
       "      <th>first_device_type</th>\n",
       "      <th>first_browser</th>\n",
       "      <th>dac_year</th>\n",
       "      <th>dac_month</th>\n",
       "      <th>dac_day</th>\n",
       "    </tr>\n",
       "  </thead>\n",
       "  <tbody>\n",
       "    <tr>\n",
       "      <th>0</th>\n",
       "      <td>gxn3p5htnn</td>\n",
       "      <td>20090319043255</td>\n",
       "      <td>-unknown-</td>\n",
       "      <td>-1</td>\n",
       "      <td>facebook</td>\n",
       "      <td>0</td>\n",
       "      <td>en</td>\n",
       "      <td>direct</td>\n",
       "      <td>direct</td>\n",
       "      <td>untracked</td>\n",
       "      <td>Web</td>\n",
       "      <td>Mac Desktop</td>\n",
       "      <td>Chrome</td>\n",
       "      <td>2010</td>\n",
       "      <td>6</td>\n",
       "      <td>28</td>\n",
       "    </tr>\n",
       "    <tr>\n",
       "      <th>1</th>\n",
       "      <td>820tgsjxq7</td>\n",
       "      <td>20090523174809</td>\n",
       "      <td>MALE</td>\n",
       "      <td>38</td>\n",
       "      <td>facebook</td>\n",
       "      <td>0</td>\n",
       "      <td>en</td>\n",
       "      <td>seo</td>\n",
       "      <td>google</td>\n",
       "      <td>untracked</td>\n",
       "      <td>Web</td>\n",
       "      <td>Mac Desktop</td>\n",
       "      <td>Chrome</td>\n",
       "      <td>2011</td>\n",
       "      <td>5</td>\n",
       "      <td>25</td>\n",
       "    </tr>\n",
       "    <tr>\n",
       "      <th>2</th>\n",
       "      <td>4ft3gnwmtx</td>\n",
       "      <td>20090609231247</td>\n",
       "      <td>FEMALE</td>\n",
       "      <td>56</td>\n",
       "      <td>basic</td>\n",
       "      <td>3</td>\n",
       "      <td>en</td>\n",
       "      <td>direct</td>\n",
       "      <td>direct</td>\n",
       "      <td>untracked</td>\n",
       "      <td>Web</td>\n",
       "      <td>Windows Desktop</td>\n",
       "      <td>IE</td>\n",
       "      <td>2010</td>\n",
       "      <td>9</td>\n",
       "      <td>28</td>\n",
       "    </tr>\n",
       "    <tr>\n",
       "      <th>3</th>\n",
       "      <td>bjjt8pjhuk</td>\n",
       "      <td>20091031060129</td>\n",
       "      <td>FEMALE</td>\n",
       "      <td>42</td>\n",
       "      <td>facebook</td>\n",
       "      <td>0</td>\n",
       "      <td>en</td>\n",
       "      <td>direct</td>\n",
       "      <td>direct</td>\n",
       "      <td>untracked</td>\n",
       "      <td>Web</td>\n",
       "      <td>Mac Desktop</td>\n",
       "      <td>Firefox</td>\n",
       "      <td>2011</td>\n",
       "      <td>12</td>\n",
       "      <td>5</td>\n",
       "    </tr>\n",
       "    <tr>\n",
       "      <th>4</th>\n",
       "      <td>87mebub9p4</td>\n",
       "      <td>20091208061105</td>\n",
       "      <td>-unknown-</td>\n",
       "      <td>41</td>\n",
       "      <td>basic</td>\n",
       "      <td>0</td>\n",
       "      <td>en</td>\n",
       "      <td>direct</td>\n",
       "      <td>direct</td>\n",
       "      <td>untracked</td>\n",
       "      <td>Web</td>\n",
       "      <td>Mac Desktop</td>\n",
       "      <td>Chrome</td>\n",
       "      <td>2010</td>\n",
       "      <td>9</td>\n",
       "      <td>14</td>\n",
       "    </tr>\n",
       "  </tbody>\n",
       "</table>\n",
       "</div>"
      ],
      "text/plain": [
       "           id  timestamp_first_active     gender  age signup_method  \\\n",
       "0  gxn3p5htnn          20090319043255  -unknown-   -1      facebook   \n",
       "1  820tgsjxq7          20090523174809       MALE   38      facebook   \n",
       "2  4ft3gnwmtx          20090609231247     FEMALE   56         basic   \n",
       "3  bjjt8pjhuk          20091031060129     FEMALE   42      facebook   \n",
       "4  87mebub9p4          20091208061105  -unknown-   41         basic   \n",
       "\n",
       "   signup_flow language affiliate_channel affiliate_provider  \\\n",
       "0            0       en            direct             direct   \n",
       "1            0       en               seo             google   \n",
       "2            3       en            direct             direct   \n",
       "3            0       en            direct             direct   \n",
       "4            0       en            direct             direct   \n",
       "\n",
       "  first_affiliate_tracked signup_app first_device_type first_browser  \\\n",
       "0               untracked        Web       Mac Desktop        Chrome   \n",
       "1               untracked        Web       Mac Desktop        Chrome   \n",
       "2               untracked        Web   Windows Desktop            IE   \n",
       "3               untracked        Web       Mac Desktop       Firefox   \n",
       "4               untracked        Web       Mac Desktop        Chrome   \n",
       "\n",
       "   dac_year  dac_month  dac_day  \n",
       "0      2010          6       28  \n",
       "1      2011          5       25  \n",
       "2      2010          9       28  \n",
       "3      2011         12        5  \n",
       "4      2010          9       14  "
      ]
     },
     "execution_count": 38,
     "metadata": {},
     "output_type": "execute_result"
    }
   ],
   "source": [
    "# making date_account_created into features that can be used in modeling\n",
    "# splitting each date by year, month, and day. Turning them into a Series of int lists, then into a numpy array, and \n",
    "# finally vertically stacking the array\n",
    "dac = np.vstack(train_plus_test.date_account_created.astype(str).apply(lambda x: list(map(int, x.split('-')))).values)\n",
    "# making new year, month, and day features\n",
    "train_plus_test['dac_year'] = dac[:,0]\n",
    "train_plus_test['dac_month'] = dac[:,1]\n",
    "train_plus_test['dac_day'] = dac[:,2]\n",
    "# dropping the original date_account_created feature, since we got what we needed (new features) out of it\n",
    "train_plus_test = train_plus_test.drop(['date_account_created'], axis=1)\n",
    "print dac[:2,:]\n",
    "train_plus_test.head()"
   ]
  },
  {
   "cell_type": "code",
   "execution_count": 39,
   "metadata": {
    "collapsed": false
   },
   "outputs": [
    {
     "data": {
      "text/html": [
       "<div>\n",
       "<table border=\"1\" class=\"dataframe\">\n",
       "  <thead>\n",
       "    <tr style=\"text-align: right;\">\n",
       "      <th></th>\n",
       "      <th>id</th>\n",
       "      <th>gender</th>\n",
       "      <th>age</th>\n",
       "      <th>signup_method</th>\n",
       "      <th>signup_flow</th>\n",
       "      <th>language</th>\n",
       "      <th>affiliate_channel</th>\n",
       "      <th>affiliate_provider</th>\n",
       "      <th>first_affiliate_tracked</th>\n",
       "      <th>signup_app</th>\n",
       "      <th>first_device_type</th>\n",
       "      <th>first_browser</th>\n",
       "      <th>dac_year</th>\n",
       "      <th>dac_month</th>\n",
       "      <th>dac_day</th>\n",
       "      <th>tfa_year</th>\n",
       "      <th>tfa_month</th>\n",
       "      <th>tfa_day</th>\n",
       "      <th>tfa_hour</th>\n",
       "    </tr>\n",
       "  </thead>\n",
       "  <tbody>\n",
       "    <tr>\n",
       "      <th>0</th>\n",
       "      <td>gxn3p5htnn</td>\n",
       "      <td>-unknown-</td>\n",
       "      <td>-1</td>\n",
       "      <td>facebook</td>\n",
       "      <td>0</td>\n",
       "      <td>en</td>\n",
       "      <td>direct</td>\n",
       "      <td>direct</td>\n",
       "      <td>untracked</td>\n",
       "      <td>Web</td>\n",
       "      <td>Mac Desktop</td>\n",
       "      <td>Chrome</td>\n",
       "      <td>2010</td>\n",
       "      <td>6</td>\n",
       "      <td>28</td>\n",
       "      <td>2009</td>\n",
       "      <td>3</td>\n",
       "      <td>19</td>\n",
       "      <td>4</td>\n",
       "    </tr>\n",
       "    <tr>\n",
       "      <th>1</th>\n",
       "      <td>820tgsjxq7</td>\n",
       "      <td>MALE</td>\n",
       "      <td>38</td>\n",
       "      <td>facebook</td>\n",
       "      <td>0</td>\n",
       "      <td>en</td>\n",
       "      <td>seo</td>\n",
       "      <td>google</td>\n",
       "      <td>untracked</td>\n",
       "      <td>Web</td>\n",
       "      <td>Mac Desktop</td>\n",
       "      <td>Chrome</td>\n",
       "      <td>2011</td>\n",
       "      <td>5</td>\n",
       "      <td>25</td>\n",
       "      <td>2009</td>\n",
       "      <td>5</td>\n",
       "      <td>23</td>\n",
       "      <td>17</td>\n",
       "    </tr>\n",
       "    <tr>\n",
       "      <th>2</th>\n",
       "      <td>4ft3gnwmtx</td>\n",
       "      <td>FEMALE</td>\n",
       "      <td>56</td>\n",
       "      <td>basic</td>\n",
       "      <td>3</td>\n",
       "      <td>en</td>\n",
       "      <td>direct</td>\n",
       "      <td>direct</td>\n",
       "      <td>untracked</td>\n",
       "      <td>Web</td>\n",
       "      <td>Windows Desktop</td>\n",
       "      <td>IE</td>\n",
       "      <td>2010</td>\n",
       "      <td>9</td>\n",
       "      <td>28</td>\n",
       "      <td>2009</td>\n",
       "      <td>6</td>\n",
       "      <td>9</td>\n",
       "      <td>23</td>\n",
       "    </tr>\n",
       "    <tr>\n",
       "      <th>3</th>\n",
       "      <td>bjjt8pjhuk</td>\n",
       "      <td>FEMALE</td>\n",
       "      <td>42</td>\n",
       "      <td>facebook</td>\n",
       "      <td>0</td>\n",
       "      <td>en</td>\n",
       "      <td>direct</td>\n",
       "      <td>direct</td>\n",
       "      <td>untracked</td>\n",
       "      <td>Web</td>\n",
       "      <td>Mac Desktop</td>\n",
       "      <td>Firefox</td>\n",
       "      <td>2011</td>\n",
       "      <td>12</td>\n",
       "      <td>5</td>\n",
       "      <td>2009</td>\n",
       "      <td>10</td>\n",
       "      <td>31</td>\n",
       "      <td>6</td>\n",
       "    </tr>\n",
       "    <tr>\n",
       "      <th>4</th>\n",
       "      <td>87mebub9p4</td>\n",
       "      <td>-unknown-</td>\n",
       "      <td>41</td>\n",
       "      <td>basic</td>\n",
       "      <td>0</td>\n",
       "      <td>en</td>\n",
       "      <td>direct</td>\n",
       "      <td>direct</td>\n",
       "      <td>untracked</td>\n",
       "      <td>Web</td>\n",
       "      <td>Mac Desktop</td>\n",
       "      <td>Chrome</td>\n",
       "      <td>2010</td>\n",
       "      <td>9</td>\n",
       "      <td>14</td>\n",
       "      <td>2009</td>\n",
       "      <td>12</td>\n",
       "      <td>8</td>\n",
       "      <td>6</td>\n",
       "    </tr>\n",
       "  </tbody>\n",
       "</table>\n",
       "</div>"
      ],
      "text/plain": [
       "           id     gender  age signup_method  signup_flow language  \\\n",
       "0  gxn3p5htnn  -unknown-   -1      facebook            0       en   \n",
       "1  820tgsjxq7       MALE   38      facebook            0       en   \n",
       "2  4ft3gnwmtx     FEMALE   56         basic            3       en   \n",
       "3  bjjt8pjhuk     FEMALE   42      facebook            0       en   \n",
       "4  87mebub9p4  -unknown-   41         basic            0       en   \n",
       "\n",
       "  affiliate_channel affiliate_provider first_affiliate_tracked signup_app  \\\n",
       "0            direct             direct               untracked        Web   \n",
       "1               seo             google               untracked        Web   \n",
       "2            direct             direct               untracked        Web   \n",
       "3            direct             direct               untracked        Web   \n",
       "4            direct             direct               untracked        Web   \n",
       "\n",
       "  first_device_type first_browser  dac_year  dac_month  dac_day  tfa_year  \\\n",
       "0       Mac Desktop        Chrome      2010          6       28      2009   \n",
       "1       Mac Desktop        Chrome      2011          5       25      2009   \n",
       "2   Windows Desktop            IE      2010          9       28      2009   \n",
       "3       Mac Desktop       Firefox      2011         12        5      2009   \n",
       "4       Mac Desktop        Chrome      2010          9       14      2009   \n",
       "\n",
       "   tfa_month  tfa_day  tfa_hour  \n",
       "0          3       19         4  \n",
       "1          5       23        17  \n",
       "2          6        9        23  \n",
       "3         10       31         6  \n",
       "4         12        8         6  "
      ]
     },
     "execution_count": 39,
     "metadata": {},
     "output_type": "execute_result"
    }
   ],
   "source": [
    "# making timestamp_first_active into features that can be used in modeling\n",
    "# splitting each timestamp by year, month, day, hour, minute, and second and then putting year, month, and day into a stacked\n",
    "# numpy array. Not using day, hour, or minute as features.\n",
    "tfa = np.vstack(train_plus_test.timestamp_first_active.astype(str).apply(lambda x: list(map(int, [x[:4],x[4:6],x[6:8],x[8:10],x[10:12],x[12:14]]))).values)\n",
    "train_plus_test['tfa_year'] = tfa[:,0]\n",
    "train_plus_test['tfa_month'] = tfa[:,1]\n",
    "train_plus_test['tfa_day'] = tfa[:,2]\n",
    "train_plus_test['tfa_hour'] = tfa[:,3]\n",
    "train_plus_test = train_plus_test.drop(['timestamp_first_active'], axis=1)\n",
    "train_plus_test.head()"
   ]
  },
  {
   "cell_type": "code",
   "execution_count": 40,
   "metadata": {
    "collapsed": false
   },
   "outputs": [],
   "source": [
    "# Making outlier age values equal to negative one\n",
    "av = train_plus_test.age.values\n",
    "train_plus_test['age'] = np.where(np.logical_or(av<18, av>100), -1, av)"
   ]
  },
  {
   "cell_type": "code",
   "execution_count": 41,
   "metadata": {
    "collapsed": false
   },
   "outputs": [],
   "source": [
    "#One-hot-encoding features (making indicator variables)\n",
    "# getting all categorical feature names\n",
    "ohe_feats = ['gender', 'signup_method', 'signup_flow', 'language', 'affiliate_channel', 'affiliate_provider', 'first_affiliate_tracked', 'signup_app', 'first_device_type', 'first_browser']\n",
    "# for every categorical feature\n",
    "for f in ohe_feats:\n",
    "    # create an indicator variable for each unique categorical level\n",
    "    train_plus_test_indicator_vars = pd.get_dummies(train_plus_test[f], prefix=f)\n",
    "    # drop the categorical feature from the dataset\n",
    "    train_plus_test = train_plus_test.drop([f], axis=1)\n",
    "    # concatenate the train_plus_test dataset with the indicator feature dataset for that category\n",
    "    # excluding the first indicator variable, so that I don't fall into the \"dummy variable trap\"\n",
    "    train_plus_test = pd.concat((train_plus_test, train_plus_test_indicator_vars.ix[:,1:]), axis=1)\n",
    "    "
   ]
  },
  {
   "cell_type": "markdown",
   "metadata": {
    "collapsed": true
   },
   "source": [
    "Joining the users and sessions datasets"
   ]
  },
  {
   "cell_type": "code",
   "execution_count": 42,
   "metadata": {
    "collapsed": false
   },
   "outputs": [
    {
     "data": {
      "text/html": [
       "<div>\n",
       "<table border=\"1\" class=\"dataframe\">\n",
       "  <thead>\n",
       "    <tr style=\"text-align: right;\">\n",
       "      <th></th>\n",
       "      <th>user_id</th>\n",
       "      <th>action</th>\n",
       "      <th>action_type</th>\n",
       "      <th>action_detail</th>\n",
       "      <th>device_type</th>\n",
       "      <th>secs_elapsed</th>\n",
       "    </tr>\n",
       "  </thead>\n",
       "  <tbody>\n",
       "    <tr>\n",
       "      <th>0</th>\n",
       "      <td>d1mm9tcy42</td>\n",
       "      <td>lookup</td>\n",
       "      <td>NaN</td>\n",
       "      <td>NaN</td>\n",
       "      <td>Windows Desktop</td>\n",
       "      <td>319</td>\n",
       "    </tr>\n",
       "    <tr>\n",
       "      <th>1</th>\n",
       "      <td>d1mm9tcy42</td>\n",
       "      <td>search_results</td>\n",
       "      <td>click</td>\n",
       "      <td>view_search_results</td>\n",
       "      <td>Windows Desktop</td>\n",
       "      <td>67753</td>\n",
       "    </tr>\n",
       "    <tr>\n",
       "      <th>2</th>\n",
       "      <td>d1mm9tcy42</td>\n",
       "      <td>lookup</td>\n",
       "      <td>NaN</td>\n",
       "      <td>NaN</td>\n",
       "      <td>Windows Desktop</td>\n",
       "      <td>301</td>\n",
       "    </tr>\n",
       "    <tr>\n",
       "      <th>3</th>\n",
       "      <td>d1mm9tcy42</td>\n",
       "      <td>search_results</td>\n",
       "      <td>click</td>\n",
       "      <td>view_search_results</td>\n",
       "      <td>Windows Desktop</td>\n",
       "      <td>22141</td>\n",
       "    </tr>\n",
       "    <tr>\n",
       "      <th>4</th>\n",
       "      <td>d1mm9tcy42</td>\n",
       "      <td>lookup</td>\n",
       "      <td>NaN</td>\n",
       "      <td>NaN</td>\n",
       "      <td>Windows Desktop</td>\n",
       "      <td>435</td>\n",
       "    </tr>\n",
       "    <tr>\n",
       "      <th>5</th>\n",
       "      <td>d1mm9tcy42</td>\n",
       "      <td>search_results</td>\n",
       "      <td>click</td>\n",
       "      <td>view_search_results</td>\n",
       "      <td>Windows Desktop</td>\n",
       "      <td>7703</td>\n",
       "    </tr>\n",
       "    <tr>\n",
       "      <th>6</th>\n",
       "      <td>d1mm9tcy42</td>\n",
       "      <td>lookup</td>\n",
       "      <td>NaN</td>\n",
       "      <td>NaN</td>\n",
       "      <td>Windows Desktop</td>\n",
       "      <td>115</td>\n",
       "    </tr>\n",
       "    <tr>\n",
       "      <th>7</th>\n",
       "      <td>d1mm9tcy42</td>\n",
       "      <td>personalize</td>\n",
       "      <td>data</td>\n",
       "      <td>wishlist_content_update</td>\n",
       "      <td>Windows Desktop</td>\n",
       "      <td>831</td>\n",
       "    </tr>\n",
       "    <tr>\n",
       "      <th>8</th>\n",
       "      <td>d1mm9tcy42</td>\n",
       "      <td>index</td>\n",
       "      <td>view</td>\n",
       "      <td>view_search_results</td>\n",
       "      <td>Windows Desktop</td>\n",
       "      <td>20842</td>\n",
       "    </tr>\n",
       "    <tr>\n",
       "      <th>9</th>\n",
       "      <td>d1mm9tcy42</td>\n",
       "      <td>lookup</td>\n",
       "      <td>NaN</td>\n",
       "      <td>NaN</td>\n",
       "      <td>Windows Desktop</td>\n",
       "      <td>683</td>\n",
       "    </tr>\n",
       "  </tbody>\n",
       "</table>\n",
       "</div>"
      ],
      "text/plain": [
       "      user_id          action action_type            action_detail  \\\n",
       "0  d1mm9tcy42          lookup         NaN                      NaN   \n",
       "1  d1mm9tcy42  search_results       click      view_search_results   \n",
       "2  d1mm9tcy42          lookup         NaN                      NaN   \n",
       "3  d1mm9tcy42  search_results       click      view_search_results   \n",
       "4  d1mm9tcy42          lookup         NaN                      NaN   \n",
       "5  d1mm9tcy42  search_results       click      view_search_results   \n",
       "6  d1mm9tcy42          lookup         NaN                      NaN   \n",
       "7  d1mm9tcy42     personalize        data  wishlist_content_update   \n",
       "8  d1mm9tcy42           index        view      view_search_results   \n",
       "9  d1mm9tcy42          lookup         NaN                      NaN   \n",
       "\n",
       "       device_type  secs_elapsed  \n",
       "0  Windows Desktop           319  \n",
       "1  Windows Desktop         67753  \n",
       "2  Windows Desktop           301  \n",
       "3  Windows Desktop         22141  \n",
       "4  Windows Desktop           435  \n",
       "5  Windows Desktop          7703  \n",
       "6  Windows Desktop           115  \n",
       "7  Windows Desktop           831  \n",
       "8  Windows Desktop         20842  \n",
       "9  Windows Desktop           683  "
      ]
     },
     "execution_count": 42,
     "metadata": {},
     "output_type": "execute_result"
    }
   ],
   "source": [
    "# reading in the web sessions dataset\n",
    "orig_sessions = pd.read_csv('/Users/nicholaslipanovich/Documents/airbnb_kaggle/sessions.csv')\n",
    "orig_sessions.head(n=10)"
   ]
  },
  {
   "cell_type": "code",
   "execution_count": 32,
   "metadata": {
    "collapsed": false
   },
   "outputs": [
    {
     "name": "stdout",
     "output_type": "stream",
     "text": [
      "user_id          135483\n",
      "action              359\n",
      "action_type          10\n",
      "action_detail       155\n",
      "device_type          14\n",
      "secs_elapsed     337661\n",
      "dtype: int64\n"
     ]
    }
   ],
   "source": [
    "#print orig_sessions.info()\n",
    "# looking at how many unique values each column has\n",
    "print(orig_sessions.apply(lambda x: x.nunique(),axis=0))"
   ]
  },
  {
   "cell_type": "code",
   "execution_count": 9,
   "metadata": {
    "collapsed": false
   },
   "outputs": [],
   "source": [
    "# grouping by user and summing their seconds elapsed\n",
    "grpby = orig_sessions.groupby(['user_id'])['secs_elapsed'].sum().reset_index()\n",
    "grpby.columns = ['user_id','secs_elapsed']"
   ]
  },
  {
   "cell_type": "code",
   "execution_count": 10,
   "metadata": {
    "collapsed": false
   },
   "outputs": [
    {
     "name": "stdout",
     "output_type": "stream",
     "text": [
      "action_type     user_id  -unknown-  booking_request  click  data  \\\n",
      "0            00023iyk9l          0                1      4     9   \n",
      "1            0010k6l0om          5                0     16     9   \n",
      "2            001wyh0pz8          6                0     66     2   \n",
      "3            0028jgx1x1          1                0      9     5   \n",
      "4            002qnbzfs5        184                1    140   140   \n",
      "\n",
      "action_type  message_post  modify  partner_callback  submit  view  \n",
      "0                       1       0                 1       0    21  \n",
      "1                       0       0                 1       0    17  \n",
      "2                       0       0                 0       3     8  \n",
      "3                       0       0                 0       1    15  \n",
      "4                      16       0                 0      15   216  \n"
     ]
    }
   ],
   "source": [
    "# making a pivot table that has the counts for each action_types for each user (each action type is a column)\n",
    "#print orig_sessions.action_type.value_counts()\n",
    "#print(orig_sessions.groupby(['action_type'])['user_id'].nunique().reset_index())\n",
    "action_type = pd.pivot_table(orig_sessions, index = ['user_id'],columns = ['action_type'],values = 'action',aggfunc=len,fill_value=0).reset_index()\n",
    "# dropping the booking_request column since it had only 4 total counts\n",
    "action_type = action_type.drop(['booking_response'],axis=1)\n",
    "print(action_type.head())"
   ]
  },
  {
   "cell_type": "code",
   "execution_count": 11,
   "metadata": {
    "collapsed": false
   },
   "outputs": [
    {
     "name": "stdout",
     "output_type": "stream",
     "text": [
      "device_type     user_id  -unknown-  Android App Unknown Phone/Tablet  \\\n",
      "0            00023iyk9l          0                                 0   \n",
      "1            0010k6l0om          0                                 0   \n",
      "2            001wyh0pz8          0                                90   \n",
      "3            0028jgx1x1         30                                 0   \n",
      "4            002qnbzfs5         14                                 0   \n",
      "\n",
      "device_type  Android Phone  Chromebook  Linux Desktop  Mac Desktop  Tablet  \\\n",
      "0                        0           0              0           36       0   \n",
      "1                        0           0              0           63       0   \n",
      "2                        0           0              0            0       0   \n",
      "3                        1           0              0            0       0   \n",
      "4                        0           0              0            0       0   \n",
      "\n",
      "device_type  Windows Desktop  iPad Tablet  iPhone  \n",
      "0                          0            0       4  \n",
      "1                          0            0       0  \n",
      "2                          0            0       0  \n",
      "3                          0            0       0  \n",
      "4                          0            0     775  \n"
     ]
    }
   ],
   "source": [
    "# making a pivot table that has the counts for each device_types for each user (each device type is a column)\n",
    "#print(sessions.groupby(['device_type'])['user_id'].nunique().reset_index())\n",
    "#print(sessions.groupby(['user_id'])['device_type'].nunique().reset_index())\n",
    "device_type = pd.pivot_table(orig_sessions, index = ['user_id'],columns = ['device_type'],values = 'action',aggfunc=len,fill_value=0).reset_index()\n",
    "# dropping device types that had less than 10,000 counts\n",
    "device_type = device_type.drop(['Blackberry','Opera Phone','iPodtouch','Windows Phone'],axis=1)\n",
    "#device_type = device_type.replace(device_type.iloc[:,1:]>0,1)\n",
    "print(device_type.head())"
   ]
  },
  {
   "cell_type": "code",
   "execution_count": 12,
   "metadata": {
    "collapsed": false
   },
   "outputs": [
    {
     "name": "stdout",
     "output_type": "stream",
     "text": [
      "      user_id  -unknown-_x  booking_request  click  data  message_post  \\\n",
      "0  00023iyk9l            0                1      4     9             1   \n",
      "1  0010k6l0om            5                0     16     9             0   \n",
      "2  001wyh0pz8            6                0     66     2             0   \n",
      "3  0028jgx1x1            1                0      9     5             0   \n",
      "4  002qnbzfs5          184                1    140   140            16   \n",
      "\n",
      "   modify  partner_callback  submit  view      ...       \\\n",
      "0       0                 1       0    21      ...        \n",
      "1       0                 1       0    17      ...        \n",
      "2       0                 0       3     8      ...        \n",
      "3       0                 0       1    15      ...        \n",
      "4       0                 0      15   216      ...        \n",
      "\n",
      "   Android App Unknown Phone/Tablet  Android Phone  Chromebook  Linux Desktop  \\\n",
      "0                                 0              0           0              0   \n",
      "1                                 0              0           0              0   \n",
      "2                                90              0           0              0   \n",
      "3                                 0              1           0              0   \n",
      "4                                 0              0           0              0   \n",
      "\n",
      "   Mac Desktop  Tablet  Windows Desktop  iPad Tablet  iPhone  secs_elapsed  \n",
      "0           36       0                0            0       4        867896  \n",
      "1           63       0                0            0       0        586543  \n",
      "2            0       0                0            0       0        282965  \n",
      "3            0       0                0            0       0        297010  \n",
      "4            0       0                0            0     775       6487080  \n",
      "\n",
      "[5 rows x 21 columns]\n"
     ]
    }
   ],
   "source": [
    "# combining the counts of the action types and device types\n",
    "action_device_counts = pd.merge(action_type,device_type,on='user_id',how='inner')\n",
    "action_device_counts = pd.merge(action_device_counts,grpby,on='user_id',how='inner')\n",
    "print(action_device_counts.head())"
   ]
  },
  {
   "cell_type": "markdown",
   "metadata": {},
   "source": [
    "Looking at the demographics data"
   ]
  },
  {
   "cell_type": "code",
   "execution_count": 13,
   "metadata": {
    "collapsed": false
   },
   "outputs": [
    {
     "data": {
      "text/html": [
       "<div>\n",
       "<table border=\"1\" class=\"dataframe\">\n",
       "  <thead>\n",
       "    <tr style=\"text-align: right;\">\n",
       "      <th></th>\n",
       "      <th>age_bucket</th>\n",
       "      <th>country_destination</th>\n",
       "      <th>gender</th>\n",
       "      <th>population_in_thousands</th>\n",
       "      <th>year</th>\n",
       "    </tr>\n",
       "  </thead>\n",
       "  <tbody>\n",
       "    <tr>\n",
       "      <th>410</th>\n",
       "      <td>35-39</td>\n",
       "      <td>US</td>\n",
       "      <td>female</td>\n",
       "      <td>10352</td>\n",
       "      <td>2015</td>\n",
       "    </tr>\n",
       "    <tr>\n",
       "      <th>411</th>\n",
       "      <td>30-34</td>\n",
       "      <td>US</td>\n",
       "      <td>female</td>\n",
       "      <td>10863</td>\n",
       "      <td>2015</td>\n",
       "    </tr>\n",
       "    <tr>\n",
       "      <th>412</th>\n",
       "      <td>25-29</td>\n",
       "      <td>US</td>\n",
       "      <td>female</td>\n",
       "      <td>11011</td>\n",
       "      <td>2015</td>\n",
       "    </tr>\n",
       "    <tr>\n",
       "      <th>413</th>\n",
       "      <td>20-24</td>\n",
       "      <td>US</td>\n",
       "      <td>female</td>\n",
       "      <td>11094</td>\n",
       "      <td>2015</td>\n",
       "    </tr>\n",
       "    <tr>\n",
       "      <th>414</th>\n",
       "      <td>100+</td>\n",
       "      <td>US</td>\n",
       "      <td>male</td>\n",
       "      <td>13</td>\n",
       "      <td>2015</td>\n",
       "    </tr>\n",
       "    <tr>\n",
       "      <th>415</th>\n",
       "      <td>95-99</td>\n",
       "      <td>US</td>\n",
       "      <td>male</td>\n",
       "      <td>115</td>\n",
       "      <td>2015</td>\n",
       "    </tr>\n",
       "    <tr>\n",
       "      <th>416</th>\n",
       "      <td>90-94</td>\n",
       "      <td>US</td>\n",
       "      <td>male</td>\n",
       "      <td>541</td>\n",
       "      <td>2015</td>\n",
       "    </tr>\n",
       "    <tr>\n",
       "      <th>417</th>\n",
       "      <td>15-19</td>\n",
       "      <td>US</td>\n",
       "      <td>female</td>\n",
       "      <td>10570</td>\n",
       "      <td>2015</td>\n",
       "    </tr>\n",
       "    <tr>\n",
       "      <th>418</th>\n",
       "      <td>85-89</td>\n",
       "      <td>US</td>\n",
       "      <td>male</td>\n",
       "      <td>1441</td>\n",
       "      <td>2015</td>\n",
       "    </tr>\n",
       "    <tr>\n",
       "      <th>419</th>\n",
       "      <td>80-84</td>\n",
       "      <td>US</td>\n",
       "      <td>male</td>\n",
       "      <td>2442</td>\n",
       "      <td>2015</td>\n",
       "    </tr>\n",
       "  </tbody>\n",
       "</table>\n",
       "</div>"
      ],
      "text/plain": [
       "    age_bucket country_destination  gender  population_in_thousands  year\n",
       "410      35-39                  US  female                    10352  2015\n",
       "411      30-34                  US  female                    10863  2015\n",
       "412      25-29                  US  female                    11011  2015\n",
       "413      20-24                  US  female                    11094  2015\n",
       "414       100+                  US    male                       13  2015\n",
       "415      95-99                  US    male                      115  2015\n",
       "416      90-94                  US    male                      541  2015\n",
       "417      15-19                  US  female                    10570  2015\n",
       "418      85-89                  US    male                     1441  2015\n",
       "419      80-84                  US    male                     2442  2015"
      ]
     },
     "execution_count": 13,
     "metadata": {},
     "output_type": "execute_result"
    }
   ],
   "source": [
    "# reading in users' summary statistics (age, gender, country of destination)\n",
    "orig_user_summary = pd.read_csv('/Users/nicholaslipanovich/Documents/airbnb_kaggle/age_gender_bkts.csv')\n",
    "orig_user_summary.tail(n=10)\n",
    "\n",
    "# could get proportions for choosing to travel each country based on age bucket and gender\n",
    "# get a proportion for each age_bucket and for each gender by dividing its population by the total population\n",
    "\n",
    "# first get the test set's distribution of those with a country destination and those with NDF or other\n",
    "# multiply the found proportions by the proportion of records in the test set that are NOT other or NDF."
   ]
  },
  {
   "cell_type": "code",
   "execution_count": 14,
   "metadata": {
    "collapsed": false
   },
   "outputs": [
    {
     "name": "stdout",
     "output_type": "stream",
     "text": [
      "0.369236967735\n",
      "0.583473490403 0.0472895418621\n"
     ]
    }
   ],
   "source": [
    "# getting proportion of users in training set that do NOT have the destination of NDF or other\n",
    "r = np.unique(labels, return_counts=True)\n",
    "counts = r[1]\n",
    "prop_not_ndf_other = float(counts.sum() - counts[7] - counts[11])/(counts.sum())\n",
    "print prop_not_ndf_other\n",
    "prop_ndf = float(counts[7])/counts.sum()\n",
    "prop_other = float(counts[11])/counts.sum()\n",
    "print prop_ndf, prop_other"
   ]
  },
  {
   "cell_type": "code",
   "execution_count": 15,
   "metadata": {
    "collapsed": false
   },
   "outputs": [
    {
     "data": {
      "text/plain": [
       "1.0"
      ]
     },
     "execution_count": 15,
     "metadata": {},
     "output_type": "execute_result"
    }
   ],
   "source": [
    "prop_not_ndf_other + prop_ndf + prop_other"
   ]
  },
  {
   "cell_type": "code",
   "execution_count": 16,
   "metadata": {
    "collapsed": false
   },
   "outputs": [],
   "source": [
    "# getting proportions of each age_bucket that went to each country in the user summary set\n",
    "age_propor = pd.pivot_table(orig_user_summary, index = ['age_bucket'],\n",
    "                            columns = ['country_destination'], values = 'population_in_thousands',\n",
    "                            aggfunc=np.sum,fill_value=0).reset_index()"
   ]
  },
  {
   "cell_type": "code",
   "execution_count": 17,
   "metadata": {
    "collapsed": false
   },
   "outputs": [],
   "source": [
    "# summing the rows to get total counts for each age\n",
    "# using only country columns to sum\n",
    "propor_countries = age_propor.ix[:,1:]\n",
    "total_age_counts = age_propor.sum(axis=1)\n",
    "# add the counts to the main table\n",
    "age_propor['total_count'] = total_age_counts"
   ]
  },
  {
   "cell_type": "code",
   "execution_count": 18,
   "metadata": {
    "collapsed": false
   },
   "outputs": [
    {
     "data": {
      "text/html": [
       "<div>\n",
       "<table border=\"1\" class=\"dataframe\">\n",
       "  <thead>\n",
       "    <tr style=\"text-align: right;\">\n",
       "      <th>country_destination</th>\n",
       "      <th>age_bucket</th>\n",
       "      <th>AU</th>\n",
       "      <th>CA</th>\n",
       "      <th>DE</th>\n",
       "      <th>ES</th>\n",
       "      <th>FR</th>\n",
       "      <th>GB</th>\n",
       "      <th>IT</th>\n",
       "      <th>NL</th>\n",
       "      <th>PT</th>\n",
       "      <th>US</th>\n",
       "      <th>total_count</th>\n",
       "    </tr>\n",
       "  </thead>\n",
       "  <tbody>\n",
       "    <tr>\n",
       "      <th>0</th>\n",
       "      <td>0-4</td>\n",
       "      <td>1605</td>\n",
       "      <td>2036</td>\n",
       "      <td>3524</td>\n",
       "      <td>2470</td>\n",
       "      <td>3973</td>\n",
       "      <td>3869</td>\n",
       "      <td>2851</td>\n",
       "      <td>900</td>\n",
       "      <td>464</td>\n",
       "      <td>21094</td>\n",
       "      <td>42786</td>\n",
       "    </tr>\n",
       "    <tr>\n",
       "      <th>1</th>\n",
       "      <td>10-14</td>\n",
       "      <td>1450</td>\n",
       "      <td>1912</td>\n",
       "      <td>3692</td>\n",
       "      <td>2313</td>\n",
       "      <td>3879</td>\n",
       "      <td>3461</td>\n",
       "      <td>2856</td>\n",
       "      <td>1010</td>\n",
       "      <td>554</td>\n",
       "      <td>21117</td>\n",
       "      <td>42244</td>\n",
       "    </tr>\n",
       "    <tr>\n",
       "      <th>2</th>\n",
       "      <td>100+</td>\n",
       "      <td>5</td>\n",
       "      <td>8</td>\n",
       "      <td>17</td>\n",
       "      <td>12</td>\n",
       "      <td>22</td>\n",
       "      <td>16</td>\n",
       "      <td>18</td>\n",
       "      <td>2</td>\n",
       "      <td>1</td>\n",
       "      <td>74</td>\n",
       "      <td>175</td>\n",
       "    </tr>\n",
       "    <tr>\n",
       "      <th>3</th>\n",
       "      <td>15-19</td>\n",
       "      <td>1505</td>\n",
       "      <td>2063</td>\n",
       "      <td>4050</td>\n",
       "      <td>2114</td>\n",
       "      <td>3932</td>\n",
       "      <td>3647</td>\n",
       "      <td>2904</td>\n",
       "      <td>994</td>\n",
       "      <td>543</td>\n",
       "      <td>21595</td>\n",
       "      <td>43347</td>\n",
       "    </tr>\n",
       "    <tr>\n",
       "      <th>4</th>\n",
       "      <td>20-24</td>\n",
       "      <td>1607</td>\n",
       "      <td>2362</td>\n",
       "      <td>4427</td>\n",
       "      <td>2281</td>\n",
       "      <td>3987</td>\n",
       "      <td>4018</td>\n",
       "      <td>3115</td>\n",
       "      <td>1031</td>\n",
       "      <td>560</td>\n",
       "      <td>22695</td>\n",
       "      <td>46083</td>\n",
       "    </tr>\n",
       "  </tbody>\n",
       "</table>\n",
       "</div>"
      ],
      "text/plain": [
       "country_destination age_bucket    AU    CA    DE    ES    FR    GB    IT  \\\n",
       "0                          0-4  1605  2036  3524  2470  3973  3869  2851   \n",
       "1                        10-14  1450  1912  3692  2313  3879  3461  2856   \n",
       "2                         100+     5     8    17    12    22    16    18   \n",
       "3                        15-19  1505  2063  4050  2114  3932  3647  2904   \n",
       "4                        20-24  1607  2362  4427  2281  3987  4018  3115   \n",
       "\n",
       "country_destination    NL   PT     US  total_count  \n",
       "0                     900  464  21094        42786  \n",
       "1                    1010  554  21117        42244  \n",
       "2                       2    1     74          175  \n",
       "3                     994  543  21595        43347  \n",
       "4                    1031  560  22695        46083  "
      ]
     },
     "execution_count": 18,
     "metadata": {},
     "output_type": "execute_result"
    }
   ],
   "source": [
    "age_propor.head()"
   ]
  },
  {
   "cell_type": "code",
   "execution_count": 19,
   "metadata": {
    "collapsed": false
   },
   "outputs": [],
   "source": [
    "# dividing each country row by the total counts and multiplying by the proportion of people in the test set that went to \n",
    "# one of these ten countries to get the proportions\n",
    "country_feats = ['AU', 'CA', 'DE', 'ES', 'FR', 'GB', 'IT', 'NL', 'PT', 'US']\n",
    "# for every country feature\n",
    "for f in country_feats:\n",
    "    # divide by total counts and put into new column\n",
    "    new_name = f + '_propors'\n",
    "    age_propor[new_name] = (age_propor[f]/age_propor['total_count'])*prop_not_ndf_other\n",
    "    \n",
    "# if your ages 0-4 then you get these values for each age-country-proportion feature"
   ]
  },
  {
   "cell_type": "code",
   "execution_count": 20,
   "metadata": {
    "collapsed": false
   },
   "outputs": [
    {
     "data": {
      "text/plain": [
       "(21, 10)"
      ]
     },
     "execution_count": 20,
     "metadata": {},
     "output_type": "execute_result"
    }
   ],
   "source": [
    "# getting only the proportions into a dataframe\n",
    "age_prop = age_propor.ix[:,12:]\n",
    "age_prop.shape"
   ]
  },
  {
   "cell_type": "code",
   "execution_count": 21,
   "metadata": {
    "collapsed": false
   },
   "outputs": [
    {
     "data": {
      "text/html": [
       "<div>\n",
       "<table border=\"1\" class=\"dataframe\">\n",
       "  <thead>\n",
       "    <tr style=\"text-align: right;\">\n",
       "      <th></th>\n",
       "      <th>id</th>\n",
       "      <th>age</th>\n",
       "      <th>dac_year</th>\n",
       "      <th>dac_month</th>\n",
       "      <th>dac_day</th>\n",
       "      <th>tfa_year</th>\n",
       "      <th>tfa_month</th>\n",
       "      <th>tfa_day</th>\n",
       "      <th>tfa_hour</th>\n",
       "      <th>gender_FEMALE</th>\n",
       "      <th>...</th>\n",
       "      <th>AU_propors</th>\n",
       "      <th>CA_propors</th>\n",
       "      <th>DE_propors</th>\n",
       "      <th>ES_propors</th>\n",
       "      <th>FR_propors</th>\n",
       "      <th>GB_propors</th>\n",
       "      <th>IT_propors</th>\n",
       "      <th>NL_propors</th>\n",
       "      <th>PT_propors</th>\n",
       "      <th>US_propors</th>\n",
       "    </tr>\n",
       "  </thead>\n",
       "  <tbody>\n",
       "    <tr>\n",
       "      <th>0</th>\n",
       "      <td>gxn3p5htnn</td>\n",
       "      <td>-1</td>\n",
       "      <td>2010</td>\n",
       "      <td>6</td>\n",
       "      <td>28</td>\n",
       "      <td>2009</td>\n",
       "      <td>3</td>\n",
       "      <td>19</td>\n",
       "      <td>4</td>\n",
       "      <td>0</td>\n",
       "      <td>...</td>\n",
       "      <td>NaN</td>\n",
       "      <td>NaN</td>\n",
       "      <td>NaN</td>\n",
       "      <td>NaN</td>\n",
       "      <td>NaN</td>\n",
       "      <td>NaN</td>\n",
       "      <td>NaN</td>\n",
       "      <td>NaN</td>\n",
       "      <td>NaN</td>\n",
       "      <td>NaN</td>\n",
       "    </tr>\n",
       "    <tr>\n",
       "      <th>1</th>\n",
       "      <td>820tgsjxq7</td>\n",
       "      <td>38</td>\n",
       "      <td>2011</td>\n",
       "      <td>5</td>\n",
       "      <td>25</td>\n",
       "      <td>2009</td>\n",
       "      <td>5</td>\n",
       "      <td>23</td>\n",
       "      <td>17</td>\n",
       "      <td>0</td>\n",
       "      <td>...</td>\n",
       "      <td>0.012487</td>\n",
       "      <td>0.018605</td>\n",
       "      <td>0.037897</td>\n",
       "      <td>0.031904</td>\n",
       "      <td>0.028896</td>\n",
       "      <td>0.03081</td>\n",
       "      <td>0.032873</td>\n",
       "      <td>0.007658</td>\n",
       "      <td>0.006509</td>\n",
       "      <td>0.161599</td>\n",
       "    </tr>\n",
       "    <tr>\n",
       "      <th>2</th>\n",
       "      <td>4ft3gnwmtx</td>\n",
       "      <td>56</td>\n",
       "      <td>2010</td>\n",
       "      <td>9</td>\n",
       "      <td>28</td>\n",
       "      <td>2009</td>\n",
       "      <td>6</td>\n",
       "      <td>9</td>\n",
       "      <td>23</td>\n",
       "      <td>1</td>\n",
       "      <td>...</td>\n",
       "      <td>0.010975</td>\n",
       "      <td>0.019579</td>\n",
       "      <td>0.045163</td>\n",
       "      <td>0.022736</td>\n",
       "      <td>0.030698</td>\n",
       "      <td>0.02958</td>\n",
       "      <td>0.030554</td>\n",
       "      <td>0.008770</td>\n",
       "      <td>0.005356</td>\n",
       "      <td>0.165825</td>\n",
       "    </tr>\n",
       "    <tr>\n",
       "      <th>3</th>\n",
       "      <td>bjjt8pjhuk</td>\n",
       "      <td>42</td>\n",
       "      <td>2011</td>\n",
       "      <td>12</td>\n",
       "      <td>5</td>\n",
       "      <td>2009</td>\n",
       "      <td>10</td>\n",
       "      <td>31</td>\n",
       "      <td>6</td>\n",
       "      <td>1</td>\n",
       "      <td>...</td>\n",
       "      <td>0.012451</td>\n",
       "      <td>0.017632</td>\n",
       "      <td>0.038989</td>\n",
       "      <td>0.029857</td>\n",
       "      <td>0.033364</td>\n",
       "      <td>0.03190</td>\n",
       "      <td>0.036338</td>\n",
       "      <td>0.008748</td>\n",
       "      <td>0.006263</td>\n",
       "      <td>0.153695</td>\n",
       "    </tr>\n",
       "    <tr>\n",
       "      <th>4</th>\n",
       "      <td>87mebub9p4</td>\n",
       "      <td>41</td>\n",
       "      <td>2010</td>\n",
       "      <td>9</td>\n",
       "      <td>14</td>\n",
       "      <td>2009</td>\n",
       "      <td>12</td>\n",
       "      <td>8</td>\n",
       "      <td>6</td>\n",
       "      <td>0</td>\n",
       "      <td>...</td>\n",
       "      <td>0.012451</td>\n",
       "      <td>0.017632</td>\n",
       "      <td>0.038989</td>\n",
       "      <td>0.029857</td>\n",
       "      <td>0.033364</td>\n",
       "      <td>0.03190</td>\n",
       "      <td>0.036338</td>\n",
       "      <td>0.008748</td>\n",
       "      <td>0.006263</td>\n",
       "      <td>0.153695</td>\n",
       "    </tr>\n",
       "  </tbody>\n",
       "</table>\n",
       "<p>5 rows × 163 columns</p>\n",
       "</div>"
      ],
      "text/plain": [
       "           id  age  dac_year  dac_month  dac_day  tfa_year  tfa_month  \\\n",
       "0  gxn3p5htnn   -1      2010          6       28      2009          3   \n",
       "1  820tgsjxq7   38      2011          5       25      2009          5   \n",
       "2  4ft3gnwmtx   56      2010          9       28      2009          6   \n",
       "3  bjjt8pjhuk   42      2011         12        5      2009         10   \n",
       "4  87mebub9p4   41      2010          9       14      2009         12   \n",
       "\n",
       "   tfa_day  tfa_hour  gender_FEMALE     ...      AU_propors  CA_propors  \\\n",
       "0       19         4              0     ...             NaN         NaN   \n",
       "1       23        17              0     ...        0.012487    0.018605   \n",
       "2        9        23              1     ...        0.010975    0.019579   \n",
       "3       31         6              1     ...        0.012451    0.017632   \n",
       "4        8         6              0     ...        0.012451    0.017632   \n",
       "\n",
       "   DE_propors  ES_propors  FR_propors  GB_propors  IT_propors  NL_propors  \\\n",
       "0         NaN         NaN         NaN         NaN         NaN         NaN   \n",
       "1    0.037897    0.031904    0.028896     0.03081    0.032873    0.007658   \n",
       "2    0.045163    0.022736    0.030698     0.02958    0.030554    0.008770   \n",
       "3    0.038989    0.029857    0.033364     0.03190    0.036338    0.008748   \n",
       "4    0.038989    0.029857    0.033364     0.03190    0.036338    0.008748   \n",
       "\n",
       "   PT_propors  US_propors  \n",
       "0         NaN         NaN  \n",
       "1    0.006509    0.161599  \n",
       "2    0.005356    0.165825  \n",
       "3    0.006263    0.153695  \n",
       "4    0.006263    0.153695  \n",
       "\n",
       "[5 rows x 163 columns]"
      ]
     },
     "execution_count": 21,
     "metadata": {},
     "output_type": "execute_result"
    }
   ],
   "source": [
    "from multiprocessing import Pool\n",
    "import pandas.util.testing as pdt\n",
    "\n",
    "def add_props(a_series):\n",
    "       # got rid of all ages under 18 and over 100\n",
    "    if a_series.ix[1] in (15,16,17,18,19):\n",
    "        a_series = a_series.append(age_prop.ix[3,:])\n",
    "    elif a_series.ix[1] in (20,21,22,23,24):\n",
    "        a_series = a_series.append(age_prop.ix[4,:])\n",
    "    elif a_series.ix[1] in (25,26,27,28,29):\n",
    "        a_series = a_series.append(age_prop.ix[5,:])\n",
    "    elif a_series.ix[1] in (30,31,32,33,34):\n",
    "        a_series = a_series.append(age_prop.ix[6,:])\n",
    "    elif a_series.ix[1] in (35,36,37,38,39):\n",
    "        a_series = a_series.append(age_prop.ix[7,:])\n",
    "    elif a_series.ix[1] in (40,41,42,43,44):\n",
    "        a_series = a_series.append(age_prop.ix[8,:])\n",
    "    elif a_series.ix[1] in (45,46,47,48,49):\n",
    "        a_series = a_series.append(age_prop.ix[9,:])\n",
    "    elif a_series.ix[1] in (50,51,52,53,54):\n",
    "        a_series = a_series.append(age_prop.ix[11,:])\n",
    "    elif a_series.ix[1] in (55,56,57,58,59):\n",
    "        a_series = a_series.append(age_prop.ix[12,:])\n",
    "    elif a_series.ix[1] in (60,61,62,63,64):\n",
    "        a_series = a_series.append(age_prop.ix[13,:])\n",
    "    elif a_series.ix[1] in (65,66,67,68,69):\n",
    "        a_series = a_series.append(age_prop.ix[14,:])\n",
    "    elif a_series.ix[1] in (70,71,72,73,74):\n",
    "        a_series = a_series.append(age_prop.ix[15,:])\n",
    "    elif a_series.ix[1] in (75,76,77,78,79):\n",
    "        a_series = a_series.append(age_prop.ix[16,:])\n",
    "    elif a_series.ix[1] in (80,81,82,83,84):\n",
    "        a_series = a_series.append(age_prop.ix[17,:])\n",
    "    elif a_series.ix[1] in (85,86,87,88,89):\n",
    "        a_series = a_series.append(age_prop.ix[18,:])\n",
    "    elif a_series.ix[1] in (90,91,92,93,94):\n",
    "        a_series = a_series.append(age_prop.ix[19,:])\n",
    "    elif a_series.ix[1] in (95,96,97,98,99):\n",
    "        a_series = a_series.append(age_prop.ix[20,:])\n",
    "    else:\n",
    "        a_series = a_series.append(pd.Series({'AU_propors':np.nan,'CA_propors':np.nan,'DE_propors':np.nan,'ES_propors':np.nan,\n",
    "                                              'FR_propors':np.nan,'GB_propors':np.nan,'IT_propors':np.nan,'NL_propors':np.nan,\n",
    "                                              'PT_propors':np.nan,'US_propors':np.nan}))\n",
    "    return a_series\n",
    "\n",
    "def process(df):\n",
    "    res = df.apply(add_props, axis=1) # apply to each row\n",
    "    return res\n",
    "\n",
    "pool = Pool(processes=8) # process per core\n",
    "split_dfs = np.array_split(train_plus_test, 8)\n",
    "pool_results = pool.map(process, split_dfs)\n",
    "pool.close()\n",
    "pool.join()\n",
    "\n",
    "# merging parts processed by different processes\n",
    "parts = pd.concat(pool_results, axis=0)\n",
    "parts.head()\n",
    "# merging newly calculated parts to big_df\n",
    "#big_df = pd.concat([big_df, parts], axis=1)\n",
    "\n",
    "    # checking if the dfs were merged correctly\n",
    "#pdt.assert_series_equal(parts['id'], big_df['id'])"
   ]
  },
  {
   "cell_type": "code",
   "execution_count": 22,
   "metadata": {
    "collapsed": false
   },
   "outputs": [
    {
     "data": {
      "text/plain": [
       "Index([u'id', u'age', u'dac_year', u'dac_month', u'dac_day', u'tfa_year',\n",
       "       u'tfa_month', u'tfa_day', u'tfa_hour', u'gender_FEMALE',\n",
       "       ...\n",
       "       u'AU_propors', u'CA_propors', u'DE_propors', u'ES_propors',\n",
       "       u'FR_propors', u'GB_propors', u'IT_propors', u'NL_propors',\n",
       "       u'PT_propors', u'US_propors'],\n",
       "      dtype='object', length=163)"
      ]
     },
     "execution_count": 22,
     "metadata": {},
     "output_type": "execute_result"
    }
   ],
   "source": [
    "# checking that all column names, except new ones are the same\n",
    "#print all(parts.columns.values[:153] == train_plus_test.columns.values)\n",
    "# checking that all the dataframes are exactly the same except for the new columns\n",
    "#all(train_plus_test.ix[:, :] == parts.ix[:, :153])\n",
    "# setting train_plus_test equal to the new dataframe \n",
    "train_plus_test = parts\n",
    "train_plus_test.columns"
   ]
  },
  {
   "cell_type": "code",
   "execution_count": 43,
   "metadata": {
    "collapsed": false
   },
   "outputs": [],
   "source": [
    "# combining the table of actions and counts with the main table\n",
    "users_combined_df = pd.merge(train_plus_test, action_device_counts, left_on='id', right_on='user_id', how='left')"
   ]
  },
  {
   "cell_type": "code",
   "execution_count": 44,
   "metadata": {
    "collapsed": false
   },
   "outputs": [],
   "source": [
    "# Dropping both the ids columns\n",
    "users_combined_df = users_combined_df.drop(['user_id', 'id'], axis=1)\n",
    "# fill NaNs with zeros\n",
    "users_combined_df = users_combined_df.fillna(0)"
   ]
  },
  {
   "cell_type": "code",
   "execution_count": 45,
   "metadata": {
    "collapsed": true
   },
   "outputs": [],
   "source": [
    "from sklearn import preprocessing\n",
    "# feature scaling\n",
    "users_combined_df = preprocessing.scale(users_combined_df)"
   ]
  },
  {
   "cell_type": "code",
   "execution_count": 46,
   "metadata": {
    "collapsed": false
   },
   "outputs": [
    {
     "data": {
      "text/plain": [
       "numpy.ndarray"
      ]
     },
     "execution_count": 46,
     "metadata": {},
     "output_type": "execute_result"
    }
   ],
   "source": [
    "type(users_combined_df)"
   ]
  },
  {
   "cell_type": "code",
   "execution_count": 47,
   "metadata": {
    "collapsed": true
   },
   "outputs": [],
   "source": [
    "#Splitting train and test\n",
    "# getting the values from the train_plus_test set into a numpy array\n",
    "vals = users_combined_df # users_combined_df.values\n",
    "# getting a numpy array of the training set\n",
    "X = vals[:piv_train]\n",
    "# getting a numpy array of the labels for the training set and converting them from strings into ints\n",
    "le = LabelEncoder()\n",
    "y = le.fit_transform(labels)\n",
    "# getting a numpy array of the testing set\n",
    "X_test = vals[piv_train:]"
   ]
  },
  {
   "cell_type": "code",
   "execution_count": 26,
   "metadata": {
    "collapsed": true
   },
   "outputs": [],
   "source": [
    "######################## Doing cross-validation to this to pick best parameters #######################\n",
    "#dtrain = xgb.DMatrix('../data/agaricus.txt.train')\n",
    "#param = {'max_depth':2, 'eta':1, 'silent':1, 'objective':'binary:logistic'}\n",
    "#num_round = 2\n",
    "#xgb.cv(param, dtrain, num_round, nfold=5,\n",
    " #      metrics={'error'}, seed = 0, show_stdv = False)\n",
    "from sklearn.grid_search import GridSearchCV\n",
    "# max_depth=6, learning_rate=0.3, n_estimators=25, subsample=0.5, colsample_bytree=0.5,"
   ]
  },
  {
   "cell_type": "code",
   "execution_count": 36,
   "metadata": {
    "collapsed": false
   },
   "outputs": [],
   "source": [
    "#from sklearn.grid_search import RandomizedSearchCV\n",
    "#help(RandomizedSearchCV)"
   ]
  },
  {
   "cell_type": "code",
   "execution_count": 48,
   "metadata": {
    "collapsed": false
   },
   "outputs": [
    {
     "data": {
      "text/plain": [
       "XGBClassifier(base_score=0.5, colsample_bylevel=1, colsample_bytree=0.5,\n",
       "       gamma=0, learning_rate=0.3, max_delta_step=0, max_depth=6,\n",
       "       min_child_weight=1, missing=None, n_estimators=25, nthread=-1,\n",
       "       objective='multi:softprob', reg_alpha=0, reg_lambda=1,\n",
       "       scale_pos_weight=1, seed=0, silent=True, subsample=0.5)"
      ]
     },
     "execution_count": 48,
     "metadata": {},
     "output_type": "execute_result"
    }
   ],
   "source": [
    "from sklearn.grid_search import GridSearchCV\n",
    "#Classifier\n",
    "# Specifying the classifier and its parameters\n",
    "xgb = XGBClassifier(max_depth=6, learning_rate=0.3, n_estimators=25, nthread=-1, objective='multi:softprob', subsample=0.5, colsample_bytree=0.5, seed=0) \n",
    "# Doing crossvalidation\n",
    "# the parameters to try\n",
    "parameters = {\n",
    "    'max_depth':[3, 6, 9],\n",
    "    'learning_rate':[0.1, 0.3, 0.5]\n",
    "}\n",
    "# doing 3-fold cross-validation\n",
    "#clf = GridSearchCV(xgb, parameters, cv=3, n_jobs=-1)\n",
    "# fitting the model to do cross-validation\n",
    "xgb.fit(X, y)\n",
    "# getting the best parameters and scores\n",
    "#best_params, score, _=max(clf.grid_scores_, key=lambda x: x[1])\n",
    "#for param_name in sorted(best_params.keys()):\n",
    " #   print(\"%s: %r\" % (param_name, best_params[param_name]))\n",
    "  "
   ]
  },
  {
   "cell_type": "code",
   "execution_count": null,
   "metadata": {
    "collapsed": false
   },
   "outputs": [],
   "source": [
    "from sklearn.grid_search import RandomizedSearchCV\n",
    "# Doing crossvalidation\n",
    "# the parameters to try\n",
    "parameters = {\n",
    "    'max_depth':[3, 4, 5, 6, 7, 8, 9, 10],\n",
    "    'learning_rate':[0.05, 0.1, 0.15, 0.2, 0.25, 0.3, 0.35, 0.4, 0.45, 0.5],\n",
    "}\n",
    "xgb = XGBClassifier(n_estimators=25, nthread=8, objective='multi:softprob', subsample=0.5, colsample_bytree=0.5, seed=0) \n",
    "rsearch = RandomizedSearchCV(estimator=xgb, param_distributions=parameters, n_iter=16, n_jobs=-1)\n",
    "# fitting the model to do cross-validation\n",
    "rsearch.fit(X, y)\n",
    "# getting the best parameters and scores\n",
    "best_params, score, _=max(rsearch.grid_scores_, key=lambda x: x[1])\n",
    "for param_name in sorted(best_params.keys()):\n",
    "    print(\"%s: %r\" % (param_name, best_params[param_name]))"
   ]
  },
  {
   "cell_type": "code",
   "execution_count": 49,
   "metadata": {
    "collapsed": true
   },
   "outputs": [],
   "source": [
    "# predicting the testing set labels from the model\n",
    "y_pred = xgb.predict_proba(X_test)"
   ]
  },
  {
   "cell_type": "code",
   "execution_count": 235,
   "metadata": {
    "collapsed": false
   },
   "outputs": [],
   "source": [
    "#help(XGBClassifier)\n",
    "#help(GridSearchCV)"
   ]
  },
  {
   "cell_type": "code",
   "execution_count": 50,
   "metadata": {
    "collapsed": false
   },
   "outputs": [
    {
     "data": {
      "text/plain": [
       "array([ 0.0033883 ,  0.0074479 ,  0.00348055,  0.00733136,  0.01258055,\n",
       "        0.00702718,  0.01137972,  0.65903759,  0.00394648,  0.00242723,\n",
       "        0.22397436,  0.05797875], dtype=float32)"
      ]
     },
     "execution_count": 50,
     "metadata": {},
     "output_type": "execute_result"
    }
   ],
   "source": [
    "# the prediction output consists of numpy arrays of probabilities that the example (row) belongs\n",
    "# to each classification label (level).\n",
    "y_pred[0]"
   ]
  },
  {
   "cell_type": "code",
   "execution_count": 51,
   "metadata": {
    "collapsed": true
   },
   "outputs": [],
   "source": [
    "#Taking the 5 classes with highest probabilities\n",
    "ids = []  #list of ids\n",
    "cts = []  #list of countries\n",
    "# for each id\n",
    "for i in range(len(id_test)):\n",
    "    idx = id_test[i] # get id\n",
    "    ids += [idx] * 5 # make 5 copies of it (one for each class of the five highest probabilities' classes)\n",
    "    # sorts in decending order and gets the 5 largest probabilities, gets the class labels of these probabilities, and \n",
    "    # stores these top 5 most probable class labels in a list, which is then added to the entire list of predicted \n",
    "    # classes (countries)\n",
    "    cts += le.inverse_transform(np.argsort(y_pred[i])[::-1])[:5].tolist()"
   ]
  },
  {
   "cell_type": "code",
   "execution_count": 52,
   "metadata": {
    "collapsed": false
   },
   "outputs": [
    {
     "name": "stdout",
     "output_type": "stream",
     "text": [
      "/Users/nicholaslipanovich/Documents/airbnb_kaggle\n"
     ]
    },
    {
     "data": {
      "text/plain": [
       "u'/Users/nicholaslipanovich/Documents/airbnb_kaggle'"
      ]
     },
     "execution_count": 52,
     "metadata": {},
     "output_type": "execute_result"
    }
   ],
   "source": [
    "% cd ~/Documents/airbnb_kaggle/\n",
    "% pwd"
   ]
  },
  {
   "cell_type": "code",
   "execution_count": 53,
   "metadata": {
    "collapsed": false
   },
   "outputs": [],
   "source": [
    "#Generate submission\n",
    "# get a 2D column numpy array of the ids and each ids' top predicted countries, putting this into a pandas dataframe\n",
    "sub = pd.DataFrame(np.column_stack((ids, cts)), columns=['id', 'country'])\n",
    "# saving it to a csv\n",
    "sub.to_csv('sub1.csv',index=False)"
   ]
  },
  {
   "cell_type": "code",
   "execution_count": null,
   "metadata": {
    "collapsed": true
   },
   "outputs": [],
   "source": []
  },
  {
   "cell_type": "code",
   "execution_count": null,
   "metadata": {
    "collapsed": true
   },
   "outputs": [],
   "source": []
  },
  {
   "cell_type": "code",
   "execution_count": null,
   "metadata": {
    "collapsed": true
   },
   "outputs": [],
   "source": []
  },
  {
   "cell_type": "code",
   "execution_count": null,
   "metadata": {
    "collapsed": true
   },
   "outputs": [],
   "source": [
    "#action\n",
    "#print orig_sessions.action_type.value_counts()\n",
    "#print(orig_sessions.groupby(['action_type'])['user_id'].nunique().reset_index())\n",
    "#action_type = action_type.drop(['booking_response'],axis=1) # since there were only 4 total 'booking' action types\n",
    "print(action_type.head())"
   ]
  },
  {
   "cell_type": "code",
   "execution_count": null,
   "metadata": {
    "collapsed": true
   },
   "outputs": [],
   "source": []
  },
  {
   "cell_type": "code",
   "execution_count": null,
   "metadata": {
    "collapsed": true
   },
   "outputs": [],
   "source": []
  },
  {
   "cell_type": "code",
   "execution_count": null,
   "metadata": {
    "collapsed": true
   },
   "outputs": [],
   "source": []
  },
  {
   "cell_type": "code",
   "execution_count": null,
   "metadata": {
    "collapsed": true
   },
   "outputs": [],
   "source": []
  },
  {
   "cell_type": "code",
   "execution_count": null,
   "metadata": {
    "collapsed": true
   },
   "outputs": [],
   "source": []
  },
  {
   "cell_type": "code",
   "execution_count": null,
   "metadata": {
    "collapsed": true
   },
   "outputs": [],
   "source": []
  },
  {
   "cell_type": "code",
   "execution_count": null,
   "metadata": {
    "collapsed": true
   },
   "outputs": [],
   "source": []
  },
  {
   "cell_type": "code",
   "execution_count": null,
   "metadata": {
    "collapsed": true
   },
   "outputs": [],
   "source": []
  },
  {
   "cell_type": "code",
   "execution_count": null,
   "metadata": {
    "collapsed": true
   },
   "outputs": [],
   "source": []
  },
  {
   "cell_type": "code",
   "execution_count": null,
   "metadata": {
    "collapsed": true
   },
   "outputs": [],
   "source": []
  },
  {
   "cell_type": "code",
   "execution_count": null,
   "metadata": {
    "collapsed": true
   },
   "outputs": [],
   "source": []
  },
  {
   "cell_type": "code",
   "execution_count": null,
   "metadata": {
    "collapsed": true
   },
   "outputs": [],
   "source": []
  },
  {
   "cell_type": "code",
   "execution_count": null,
   "metadata": {
    "collapsed": true
   },
   "outputs": [],
   "source": []
  },
  {
   "cell_type": "code",
   "execution_count": null,
   "metadata": {
    "collapsed": true
   },
   "outputs": [],
   "source": []
  },
  {
   "cell_type": "code",
   "execution_count": null,
   "metadata": {
    "collapsed": true
   },
   "outputs": [],
   "source": []
  },
  {
   "cell_type": "code",
   "execution_count": null,
   "metadata": {
    "collapsed": true
   },
   "outputs": [],
   "source": []
  },
  {
   "cell_type": "markdown",
   "metadata": {},
   "source": [
    "sessions.csv - web sessions log for users\n",
    "user_id: to be joined with the column 'id' in users table\n",
    "action\n",
    "action_type\n",
    "action_detail\n",
    "device_type\n",
    "secs_elapsed\n",
    "\n",
    "countries.csv - summary statistics of destination countries in this dataset and their locations\n",
    "age_gender_bkts.csv - summary statistics of users' age group, gender, country of destination\n",
    "sample_submission.csv - correct format for submitting your predictions"
   ]
  },
  {
   "cell_type": "code",
   "execution_count": null,
   "metadata": {
    "collapsed": true
   },
   "outputs": [],
   "source": []
  },
  {
   "cell_type": "code",
   "execution_count": null,
   "metadata": {
    "collapsed": true
   },
   "outputs": [],
   "source": []
  },
  {
   "cell_type": "code",
   "execution_count": null,
   "metadata": {
    "collapsed": true
   },
   "outputs": [],
   "source": []
  },
  {
   "cell_type": "code",
   "execution_count": null,
   "metadata": {
    "collapsed": true
   },
   "outputs": [],
   "source": []
  },
  {
   "cell_type": "code",
   "execution_count": null,
   "metadata": {
    "collapsed": true
   },
   "outputs": [],
   "source": []
  },
  {
   "cell_type": "code",
   "execution_count": null,
   "metadata": {
    "collapsed": true
   },
   "outputs": [],
   "source": []
  },
  {
   "cell_type": "code",
   "execution_count": null,
   "metadata": {
    "collapsed": true
   },
   "outputs": [],
   "source": []
  },
  {
   "cell_type": "code",
   "execution_count": null,
   "metadata": {
    "collapsed": true
   },
   "outputs": [],
   "source": []
  },
  {
   "cell_type": "code",
   "execution_count": null,
   "metadata": {
    "collapsed": true
   },
   "outputs": [],
   "source": []
  },
  {
   "cell_type": "code",
   "execution_count": null,
   "metadata": {
    "collapsed": true
   },
   "outputs": [],
   "source": []
  },
  {
   "cell_type": "code",
   "execution_count": null,
   "metadata": {
    "collapsed": true
   },
   "outputs": [],
   "source": []
  },
  {
   "cell_type": "code",
   "execution_count": null,
   "metadata": {
    "collapsed": true
   },
   "outputs": [],
   "source": []
  },
  {
   "cell_type": "code",
   "execution_count": null,
   "metadata": {
    "collapsed": true
   },
   "outputs": [],
   "source": []
  },
  {
   "cell_type": "code",
   "execution_count": null,
   "metadata": {
    "collapsed": true
   },
   "outputs": [],
   "source": []
  },
  {
   "cell_type": "code",
   "execution_count": null,
   "metadata": {
    "collapsed": true
   },
   "outputs": [],
   "source": []
  },
  {
   "cell_type": "code",
   "execution_count": 173,
   "metadata": {
    "collapsed": false
   },
   "outputs": [
    {
     "data": {
      "text/html": [
       "<div>\n",
       "<table border=\"1\" class=\"dataframe\">\n",
       "  <thead>\n",
       "    <tr style=\"text-align: right;\">\n",
       "      <th></th>\n",
       "      <th>country_destination</th>\n",
       "      <th>lat_destination</th>\n",
       "      <th>lng_destination</th>\n",
       "      <th>distance_km</th>\n",
       "      <th>destination_km2</th>\n",
       "      <th>destination_language</th>\n",
       "      <th>language_levenshtein_distance</th>\n",
       "    </tr>\n",
       "  </thead>\n",
       "  <tbody>\n",
       "    <tr>\n",
       "      <th>0</th>\n",
       "      <td>AU</td>\n",
       "      <td>-26.853388</td>\n",
       "      <td>133.275160</td>\n",
       "      <td>15297.7440</td>\n",
       "      <td>7741220</td>\n",
       "      <td>eng</td>\n",
       "      <td>0.00</td>\n",
       "    </tr>\n",
       "    <tr>\n",
       "      <th>1</th>\n",
       "      <td>CA</td>\n",
       "      <td>62.393303</td>\n",
       "      <td>-96.818146</td>\n",
       "      <td>2828.1333</td>\n",
       "      <td>9984670</td>\n",
       "      <td>eng</td>\n",
       "      <td>0.00</td>\n",
       "    </tr>\n",
       "    <tr>\n",
       "      <th>2</th>\n",
       "      <td>DE</td>\n",
       "      <td>51.165707</td>\n",
       "      <td>10.452764</td>\n",
       "      <td>7879.5680</td>\n",
       "      <td>357022</td>\n",
       "      <td>deu</td>\n",
       "      <td>72.61</td>\n",
       "    </tr>\n",
       "    <tr>\n",
       "      <th>3</th>\n",
       "      <td>ES</td>\n",
       "      <td>39.896027</td>\n",
       "      <td>-2.487694</td>\n",
       "      <td>7730.7240</td>\n",
       "      <td>505370</td>\n",
       "      <td>spa</td>\n",
       "      <td>92.25</td>\n",
       "    </tr>\n",
       "    <tr>\n",
       "      <th>4</th>\n",
       "      <td>FR</td>\n",
       "      <td>46.232193</td>\n",
       "      <td>2.209667</td>\n",
       "      <td>7682.9450</td>\n",
       "      <td>643801</td>\n",
       "      <td>fra</td>\n",
       "      <td>92.06</td>\n",
       "    </tr>\n",
       "    <tr>\n",
       "      <th>5</th>\n",
       "      <td>GB</td>\n",
       "      <td>54.633220</td>\n",
       "      <td>-3.432277</td>\n",
       "      <td>6883.6590</td>\n",
       "      <td>243610</td>\n",
       "      <td>eng</td>\n",
       "      <td>0.00</td>\n",
       "    </tr>\n",
       "    <tr>\n",
       "      <th>6</th>\n",
       "      <td>IT</td>\n",
       "      <td>41.873990</td>\n",
       "      <td>12.564167</td>\n",
       "      <td>8636.6310</td>\n",
       "      <td>301340</td>\n",
       "      <td>ita</td>\n",
       "      <td>89.40</td>\n",
       "    </tr>\n",
       "    <tr>\n",
       "      <th>7</th>\n",
       "      <td>NL</td>\n",
       "      <td>52.133057</td>\n",
       "      <td>5.295250</td>\n",
       "      <td>7524.3203</td>\n",
       "      <td>41543</td>\n",
       "      <td>nld</td>\n",
       "      <td>63.22</td>\n",
       "    </tr>\n",
       "    <tr>\n",
       "      <th>8</th>\n",
       "      <td>PT</td>\n",
       "      <td>39.553444</td>\n",
       "      <td>-7.839319</td>\n",
       "      <td>7355.2534</td>\n",
       "      <td>92090</td>\n",
       "      <td>por</td>\n",
       "      <td>95.45</td>\n",
       "    </tr>\n",
       "    <tr>\n",
       "      <th>9</th>\n",
       "      <td>US</td>\n",
       "      <td>36.966427</td>\n",
       "      <td>-95.844030</td>\n",
       "      <td>0.0000</td>\n",
       "      <td>9826675</td>\n",
       "      <td>eng</td>\n",
       "      <td>0.00</td>\n",
       "    </tr>\n",
       "  </tbody>\n",
       "</table>\n",
       "</div>"
      ],
      "text/plain": [
       "  country_destination  lat_destination  lng_destination  distance_km  \\\n",
       "0                  AU       -26.853388       133.275160   15297.7440   \n",
       "1                  CA        62.393303       -96.818146    2828.1333   \n",
       "2                  DE        51.165707        10.452764    7879.5680   \n",
       "3                  ES        39.896027        -2.487694    7730.7240   \n",
       "4                  FR        46.232193         2.209667    7682.9450   \n",
       "5                  GB        54.633220        -3.432277    6883.6590   \n",
       "6                  IT        41.873990        12.564167    8636.6310   \n",
       "7                  NL        52.133057         5.295250    7524.3203   \n",
       "8                  PT        39.553444        -7.839319    7355.2534   \n",
       "9                  US        36.966427       -95.844030       0.0000   \n",
       "\n",
       "   destination_km2 destination_language   language_levenshtein_distance  \n",
       "0          7741220                   eng                           0.00  \n",
       "1          9984670                   eng                           0.00  \n",
       "2           357022                   deu                          72.61  \n",
       "3           505370                   spa                          92.25  \n",
       "4           643801                   fra                          92.06  \n",
       "5           243610                   eng                           0.00  \n",
       "6           301340                   ita                          89.40  \n",
       "7            41543                   nld                          63.22  \n",
       "8            92090                   por                          95.45  \n",
       "9          9826675                   eng                           0.00  "
      ]
     },
     "execution_count": 173,
     "metadata": {},
     "output_type": "execute_result"
    }
   ],
   "source": [
    "# destination countries' summary statistics\n",
    "orig_countries_summary = pd.read_csv('/Users/nicholaslipanovich/Documents/airbnb_kaggle/countries.csv')\n",
    "orig_countries_summary.head(n=10)\n",
    "\n",
    "# could make a indicator variable, english or not"
   ]
  },
  {
   "cell_type": "code",
   "execution_count": null,
   "metadata": {
    "collapsed": true
   },
   "outputs": [],
   "source": [
    "print orig_countries_summary.info()\n",
    "#print(orig_countries_summary.apply(lambda x: x.nunique(),axis=0))"
   ]
  },
  {
   "cell_type": "code",
   "execution_count": null,
   "metadata": {
    "collapsed": true
   },
   "outputs": [],
   "source": []
  },
  {
   "cell_type": "code",
   "execution_count": null,
   "metadata": {
    "collapsed": true
   },
   "outputs": [],
   "source": []
  },
  {
   "cell_type": "code",
   "execution_count": null,
   "metadata": {
    "collapsed": true
   },
   "outputs": [],
   "source": []
  },
  {
   "cell_type": "code",
   "execution_count": null,
   "metadata": {
    "collapsed": true
   },
   "outputs": [],
   "source": []
  },
  {
   "cell_type": "code",
   "execution_count": null,
   "metadata": {
    "collapsed": true
   },
   "outputs": [],
   "source": []
  },
  {
   "cell_type": "code",
   "execution_count": null,
   "metadata": {
    "collapsed": true
   },
   "outputs": [],
   "source": []
  },
  {
   "cell_type": "code",
   "execution_count": null,
   "metadata": {
    "collapsed": true
   },
   "outputs": [],
   "source": []
  },
  {
   "cell_type": "code",
   "execution_count": null,
   "metadata": {
    "collapsed": true
   },
   "outputs": [],
   "source": []
  },
  {
   "cell_type": "code",
   "execution_count": 255,
   "metadata": {
    "collapsed": false
   },
   "outputs": [
    {
     "name": "stdout",
     "output_type": "stream",
     "text": [
      "<class 'pandas.core.frame.DataFrame'>\n",
      "Int64Index: 10567737 entries, 0 to 10567736\n",
      "Data columns (total 6 columns):\n",
      "user_id          object\n",
      "action           object\n",
      "action_type      object\n",
      "action_detail    object\n",
      "device_type      object\n",
      "secs_elapsed     float64\n",
      "dtypes: float64(1), object(5)\n",
      "memory usage: 564.4+ MB\n"
     ]
    }
   ],
   "source": [
    "# Similar to 'str(dataframe)' in R\n",
    "orig_sessions.info()"
   ]
  },
  {
   "cell_type": "code",
   "execution_count": 258,
   "metadata": {
    "collapsed": false
   },
   "outputs": [
    {
     "data": {
      "text/plain": [
       "user_id          135483\n",
       "action              359\n",
       "action_type          10\n",
       "action_detail       155\n",
       "device_type          14\n",
       "secs_elapsed     337661\n",
       "dtype: int64"
      ]
     },
     "execution_count": 258,
     "metadata": {},
     "output_type": "execute_result"
    }
   ],
   "source": [
    "orig_sessions.apply(lambda x: x.nunique(), axis=0)"
   ]
  },
  {
   "cell_type": "code",
   "execution_count": 263,
   "metadata": {
    "collapsed": false
   },
   "outputs": [
    {
     "data": {
      "text/html": [
       "<div>\n",
       "<table border=\"1\" class=\"dataframe\">\n",
       "  <thead>\n",
       "    <tr style=\"text-align: right;\">\n",
       "      <th></th>\n",
       "      <th>user_id</th>\n",
       "      <th>secs_elapsed</th>\n",
       "    </tr>\n",
       "  </thead>\n",
       "  <tbody>\n",
       "    <tr>\n",
       "      <th>0</th>\n",
       "      <td>00023iyk9l</td>\n",
       "      <td>867896</td>\n",
       "    </tr>\n",
       "    <tr>\n",
       "      <th>1</th>\n",
       "      <td>0010k6l0om</td>\n",
       "      <td>586543</td>\n",
       "    </tr>\n",
       "    <tr>\n",
       "      <th>2</th>\n",
       "      <td>001wyh0pz8</td>\n",
       "      <td>282965</td>\n",
       "    </tr>\n",
       "    <tr>\n",
       "      <th>3</th>\n",
       "      <td>0028jgx1x1</td>\n",
       "      <td>297010</td>\n",
       "    </tr>\n",
       "    <tr>\n",
       "      <th>4</th>\n",
       "      <td>002qnbzfs5</td>\n",
       "      <td>6487080</td>\n",
       "    </tr>\n",
       "  </tbody>\n",
       "</table>\n",
       "</div>"
      ],
      "text/plain": [
       "      user_id  secs_elapsed\n",
       "0  00023iyk9l        867896\n",
       "1  0010k6l0om        586543\n",
       "2  001wyh0pz8        282965\n",
       "3  0028jgx1x1        297010\n",
       "4  002qnbzfs5       6487080"
      ]
     },
     "execution_count": 263,
     "metadata": {},
     "output_type": "execute_result"
    }
   ],
   "source": [
    "grpby = orig_sessions.groupby(['user_id'])['secs_elapsed'].sum().reset_index()\n",
    "grpby.head()"
   ]
  },
  {
   "cell_type": "code",
   "execution_count": 272,
   "metadata": {
    "collapsed": false
   },
   "outputs": [
    {
     "data": {
      "text/plain": [
       "0      NaN\n",
       "1    click\n",
       "2      NaN\n",
       "3    click\n",
       "4      NaN\n",
       "Name: action_type, dtype: category\n",
       "Categories (10, object): [-unknown-, booking_request, booking_response, click, ..., modify, partner_callback, submit, view]"
      ]
     },
     "execution_count": 272,
     "metadata": {},
     "output_type": "execute_result"
    }
   ],
   "source": [
    "\n",
    "orig_sessions['action_type'].astype('category').head()"
   ]
  },
  {
   "cell_type": "code",
   "execution_count": 265,
   "metadata": {
    "collapsed": false
   },
   "outputs": [
    {
     "data": {
      "text/html": [
       "<div>\n",
       "<table border=\"1\" class=\"dataframe\">\n",
       "  <thead>\n",
       "    <tr style=\"text-align: right;\">\n",
       "      <th>action_type</th>\n",
       "      <th>user_id</th>\n",
       "      <th>-unknown-</th>\n",
       "      <th>booking_request</th>\n",
       "      <th>booking_response</th>\n",
       "      <th>click</th>\n",
       "      <th>data</th>\n",
       "      <th>message_post</th>\n",
       "      <th>modify</th>\n",
       "      <th>partner_callback</th>\n",
       "      <th>submit</th>\n",
       "      <th>view</th>\n",
       "    </tr>\n",
       "  </thead>\n",
       "  <tbody>\n",
       "    <tr>\n",
       "      <th>0</th>\n",
       "      <td>00023iyk9l</td>\n",
       "      <td>0</td>\n",
       "      <td>1</td>\n",
       "      <td>0</td>\n",
       "      <td>4</td>\n",
       "      <td>9</td>\n",
       "      <td>1</td>\n",
       "      <td>0</td>\n",
       "      <td>1</td>\n",
       "      <td>0</td>\n",
       "      <td>21</td>\n",
       "    </tr>\n",
       "    <tr>\n",
       "      <th>1</th>\n",
       "      <td>0010k6l0om</td>\n",
       "      <td>5</td>\n",
       "      <td>0</td>\n",
       "      <td>0</td>\n",
       "      <td>16</td>\n",
       "      <td>9</td>\n",
       "      <td>0</td>\n",
       "      <td>0</td>\n",
       "      <td>1</td>\n",
       "      <td>0</td>\n",
       "      <td>17</td>\n",
       "    </tr>\n",
       "    <tr>\n",
       "      <th>2</th>\n",
       "      <td>001wyh0pz8</td>\n",
       "      <td>6</td>\n",
       "      <td>0</td>\n",
       "      <td>0</td>\n",
       "      <td>66</td>\n",
       "      <td>2</td>\n",
       "      <td>0</td>\n",
       "      <td>0</td>\n",
       "      <td>0</td>\n",
       "      <td>3</td>\n",
       "      <td>8</td>\n",
       "    </tr>\n",
       "    <tr>\n",
       "      <th>3</th>\n",
       "      <td>0028jgx1x1</td>\n",
       "      <td>1</td>\n",
       "      <td>0</td>\n",
       "      <td>0</td>\n",
       "      <td>9</td>\n",
       "      <td>5</td>\n",
       "      <td>0</td>\n",
       "      <td>0</td>\n",
       "      <td>0</td>\n",
       "      <td>1</td>\n",
       "      <td>15</td>\n",
       "    </tr>\n",
       "    <tr>\n",
       "      <th>4</th>\n",
       "      <td>002qnbzfs5</td>\n",
       "      <td>184</td>\n",
       "      <td>1</td>\n",
       "      <td>0</td>\n",
       "      <td>140</td>\n",
       "      <td>140</td>\n",
       "      <td>16</td>\n",
       "      <td>0</td>\n",
       "      <td>0</td>\n",
       "      <td>15</td>\n",
       "      <td>216</td>\n",
       "    </tr>\n",
       "  </tbody>\n",
       "</table>\n",
       "</div>"
      ],
      "text/plain": [
       "action_type     user_id  -unknown-  booking_request  booking_response  click  \\\n",
       "0            00023iyk9l          0                1                 0      4   \n",
       "1            0010k6l0om          5                0                 0     16   \n",
       "2            001wyh0pz8          6                0                 0     66   \n",
       "3            0028jgx1x1          1                0                 0      9   \n",
       "4            002qnbzfs5        184                1                 0    140   \n",
       "\n",
       "action_type  data  message_post  modify  partner_callback  submit  view  \n",
       "0               9             1       0                 1       0    21  \n",
       "1               9             0       0                 1       0    17  \n",
       "2               2             0       0                 0       3     8  \n",
       "3               5             0       0                 0       1    15  \n",
       "4             140            16       0                 0      15   216  "
      ]
     },
     "execution_count": 265,
     "metadata": {},
     "output_type": "execute_result"
    }
   ],
   "source": [
    "action_type = pd.pivot_table(orig_sessions, index = ['user_id'], \n",
    "                             columns = ['action_type'], values = 'action',\n",
    "                            aggfunc = len,fill_value=0).reset_index()\n",
    "action_type.head()"
   ]
  },
  {
   "cell_type": "code",
   "execution_count": null,
   "metadata": {
    "collapsed": true
   },
   "outputs": [],
   "source": [
    "action_type = action_type.drop(['booking_response'], axis=1)\n",
    "action_type.head()"
   ]
  },
  {
   "cell_type": "code",
   "execution_count": 10,
   "metadata": {
    "collapsed": false
   },
   "outputs": [
    {
     "data": {
      "text/html": [
       "<div>\n",
       "<table border=\"1\" class=\"dataframe\">\n",
       "  <thead>\n",
       "    <tr style=\"text-align: right;\">\n",
       "      <th></th>\n",
       "      <th>country_destination</th>\n",
       "      <th>lat_destination</th>\n",
       "      <th>lng_destination</th>\n",
       "      <th>distance_km</th>\n",
       "      <th>destination_km2</th>\n",
       "      <th>destination_language</th>\n",
       "      <th>language_levenshtein_distance</th>\n",
       "    </tr>\n",
       "  </thead>\n",
       "  <tbody>\n",
       "    <tr>\n",
       "      <th>0</th>\n",
       "      <td>AU</td>\n",
       "      <td>-26.853388</td>\n",
       "      <td>133.275160</td>\n",
       "      <td>15297.7440</td>\n",
       "      <td>7741220</td>\n",
       "      <td>eng</td>\n",
       "      <td>0.00</td>\n",
       "    </tr>\n",
       "    <tr>\n",
       "      <th>1</th>\n",
       "      <td>CA</td>\n",
       "      <td>62.393303</td>\n",
       "      <td>-96.818146</td>\n",
       "      <td>2828.1333</td>\n",
       "      <td>9984670</td>\n",
       "      <td>eng</td>\n",
       "      <td>0.00</td>\n",
       "    </tr>\n",
       "    <tr>\n",
       "      <th>2</th>\n",
       "      <td>DE</td>\n",
       "      <td>51.165707</td>\n",
       "      <td>10.452764</td>\n",
       "      <td>7879.5680</td>\n",
       "      <td>357022</td>\n",
       "      <td>deu</td>\n",
       "      <td>72.61</td>\n",
       "    </tr>\n",
       "    <tr>\n",
       "      <th>3</th>\n",
       "      <td>ES</td>\n",
       "      <td>39.896027</td>\n",
       "      <td>-2.487694</td>\n",
       "      <td>7730.7240</td>\n",
       "      <td>505370</td>\n",
       "      <td>spa</td>\n",
       "      <td>92.25</td>\n",
       "    </tr>\n",
       "    <tr>\n",
       "      <th>4</th>\n",
       "      <td>FR</td>\n",
       "      <td>46.232193</td>\n",
       "      <td>2.209667</td>\n",
       "      <td>7682.9450</td>\n",
       "      <td>643801</td>\n",
       "      <td>fra</td>\n",
       "      <td>92.06</td>\n",
       "    </tr>\n",
       "    <tr>\n",
       "      <th>5</th>\n",
       "      <td>GB</td>\n",
       "      <td>54.633220</td>\n",
       "      <td>-3.432277</td>\n",
       "      <td>6883.6590</td>\n",
       "      <td>243610</td>\n",
       "      <td>eng</td>\n",
       "      <td>0.00</td>\n",
       "    </tr>\n",
       "    <tr>\n",
       "      <th>6</th>\n",
       "      <td>IT</td>\n",
       "      <td>41.873990</td>\n",
       "      <td>12.564167</td>\n",
       "      <td>8636.6310</td>\n",
       "      <td>301340</td>\n",
       "      <td>ita</td>\n",
       "      <td>89.40</td>\n",
       "    </tr>\n",
       "    <tr>\n",
       "      <th>7</th>\n",
       "      <td>NL</td>\n",
       "      <td>52.133057</td>\n",
       "      <td>5.295250</td>\n",
       "      <td>7524.3203</td>\n",
       "      <td>41543</td>\n",
       "      <td>nld</td>\n",
       "      <td>63.22</td>\n",
       "    </tr>\n",
       "    <tr>\n",
       "      <th>8</th>\n",
       "      <td>PT</td>\n",
       "      <td>39.553444</td>\n",
       "      <td>-7.839319</td>\n",
       "      <td>7355.2534</td>\n",
       "      <td>92090</td>\n",
       "      <td>por</td>\n",
       "      <td>95.45</td>\n",
       "    </tr>\n",
       "    <tr>\n",
       "      <th>9</th>\n",
       "      <td>US</td>\n",
       "      <td>36.966427</td>\n",
       "      <td>-95.844030</td>\n",
       "      <td>0.0000</td>\n",
       "      <td>9826675</td>\n",
       "      <td>eng</td>\n",
       "      <td>0.00</td>\n",
       "    </tr>\n",
       "  </tbody>\n",
       "</table>\n",
       "</div>"
      ],
      "text/plain": [
       "  country_destination  lat_destination  lng_destination  distance_km  \\\n",
       "0                  AU       -26.853388       133.275160   15297.7440   \n",
       "1                  CA        62.393303       -96.818146    2828.1333   \n",
       "2                  DE        51.165707        10.452764    7879.5680   \n",
       "3                  ES        39.896027        -2.487694    7730.7240   \n",
       "4                  FR        46.232193         2.209667    7682.9450   \n",
       "5                  GB        54.633220        -3.432277    6883.6590   \n",
       "6                  IT        41.873990        12.564167    8636.6310   \n",
       "7                  NL        52.133057         5.295250    7524.3203   \n",
       "8                  PT        39.553444        -7.839319    7355.2534   \n",
       "9                  US        36.966427       -95.844030       0.0000   \n",
       "\n",
       "   destination_km2 destination_language   language_levenshtein_distance  \n",
       "0          7741220                   eng                           0.00  \n",
       "1          9984670                   eng                           0.00  \n",
       "2           357022                   deu                          72.61  \n",
       "3           505370                   spa                          92.25  \n",
       "4           643801                   fra                          92.06  \n",
       "5           243610                   eng                           0.00  \n",
       "6           301340                   ita                          89.40  \n",
       "7            41543                   nld                          63.22  \n",
       "8            92090                   por                          95.45  \n",
       "9          9826675                   eng                           0.00  "
      ]
     },
     "execution_count": 10,
     "metadata": {},
     "output_type": "execute_result"
    }
   ],
   "source": [
    "# Looking at the datasets\n",
    "orig_countries_sum_stats.head(n=20)"
   ]
  },
  {
   "cell_type": "code",
   "execution_count": 12,
   "metadata": {
    "collapsed": false
   },
   "outputs": [
    {
     "data": {
      "text/html": [
       "<div>\n",
       "<table border=\"1\" class=\"dataframe\">\n",
       "  <thead>\n",
       "    <tr style=\"text-align: right;\">\n",
       "      <th></th>\n",
       "      <th>age_bucket</th>\n",
       "      <th>country_destination</th>\n",
       "      <th>gender</th>\n",
       "      <th>population_in_thousands</th>\n",
       "      <th>year</th>\n",
       "    </tr>\n",
       "  </thead>\n",
       "  <tbody>\n",
       "    <tr>\n",
       "      <th>0</th>\n",
       "      <td>100+</td>\n",
       "      <td>AU</td>\n",
       "      <td>male</td>\n",
       "      <td>1</td>\n",
       "      <td>2015</td>\n",
       "    </tr>\n",
       "    <tr>\n",
       "      <th>1</th>\n",
       "      <td>95-99</td>\n",
       "      <td>AU</td>\n",
       "      <td>male</td>\n",
       "      <td>9</td>\n",
       "      <td>2015</td>\n",
       "    </tr>\n",
       "    <tr>\n",
       "      <th>2</th>\n",
       "      <td>90-94</td>\n",
       "      <td>AU</td>\n",
       "      <td>male</td>\n",
       "      <td>47</td>\n",
       "      <td>2015</td>\n",
       "    </tr>\n",
       "    <tr>\n",
       "      <th>3</th>\n",
       "      <td>85-89</td>\n",
       "      <td>AU</td>\n",
       "      <td>male</td>\n",
       "      <td>118</td>\n",
       "      <td>2015</td>\n",
       "    </tr>\n",
       "    <tr>\n",
       "      <th>4</th>\n",
       "      <td>80-84</td>\n",
       "      <td>AU</td>\n",
       "      <td>male</td>\n",
       "      <td>199</td>\n",
       "      <td>2015</td>\n",
       "    </tr>\n",
       "    <tr>\n",
       "      <th>5</th>\n",
       "      <td>75-79</td>\n",
       "      <td>AU</td>\n",
       "      <td>male</td>\n",
       "      <td>298</td>\n",
       "      <td>2015</td>\n",
       "    </tr>\n",
       "    <tr>\n",
       "      <th>6</th>\n",
       "      <td>70-74</td>\n",
       "      <td>AU</td>\n",
       "      <td>male</td>\n",
       "      <td>415</td>\n",
       "      <td>2015</td>\n",
       "    </tr>\n",
       "    <tr>\n",
       "      <th>7</th>\n",
       "      <td>65-69</td>\n",
       "      <td>AU</td>\n",
       "      <td>male</td>\n",
       "      <td>574</td>\n",
       "      <td>2015</td>\n",
       "    </tr>\n",
       "    <tr>\n",
       "      <th>8</th>\n",
       "      <td>60-64</td>\n",
       "      <td>AU</td>\n",
       "      <td>male</td>\n",
       "      <td>636</td>\n",
       "      <td>2015</td>\n",
       "    </tr>\n",
       "    <tr>\n",
       "      <th>9</th>\n",
       "      <td>55-59</td>\n",
       "      <td>AU</td>\n",
       "      <td>male</td>\n",
       "      <td>714</td>\n",
       "      <td>2015</td>\n",
       "    </tr>\n",
       "  </tbody>\n",
       "</table>\n",
       "</div>"
      ],
      "text/plain": [
       "  age_bucket country_destination gender  population_in_thousands  year\n",
       "0       100+                  AU   male                        1  2015\n",
       "1      95-99                  AU   male                        9  2015\n",
       "2      90-94                  AU   male                       47  2015\n",
       "3      85-89                  AU   male                      118  2015\n",
       "4      80-84                  AU   male                      199  2015\n",
       "5      75-79                  AU   male                      298  2015\n",
       "6      70-74                  AU   male                      415  2015\n",
       "7      65-69                  AU   male                      574  2015\n",
       "8      60-64                  AU   male                      636  2015\n",
       "9      55-59                  AU   male                      714  2015"
      ]
     },
     "execution_count": 12,
     "metadata": {},
     "output_type": "execute_result"
    }
   ],
   "source": [
    "# Looking at the datasets\n",
    "orig_users_sum_stats.head(n=10)"
   ]
  },
  {
   "cell_type": "code",
   "execution_count": 16,
   "metadata": {
    "collapsed": false
   },
   "outputs": [
    {
     "data": {
      "text/html": [
       "<div>\n",
       "<table border=\"1\" class=\"dataframe\">\n",
       "  <thead>\n",
       "    <tr style=\"text-align: right;\">\n",
       "      <th></th>\n",
       "      <th>user_id</th>\n",
       "      <th>action</th>\n",
       "      <th>action_type</th>\n",
       "      <th>action_detail</th>\n",
       "      <th>device_type</th>\n",
       "      <th>secs_elapsed</th>\n",
       "    </tr>\n",
       "  </thead>\n",
       "  <tbody>\n",
       "    <tr>\n",
       "      <th>0</th>\n",
       "      <td>d1mm9tcy42</td>\n",
       "      <td>lookup</td>\n",
       "      <td>NaN</td>\n",
       "      <td>NaN</td>\n",
       "      <td>Windows Desktop</td>\n",
       "      <td>319</td>\n",
       "    </tr>\n",
       "    <tr>\n",
       "      <th>1</th>\n",
       "      <td>d1mm9tcy42</td>\n",
       "      <td>search_results</td>\n",
       "      <td>click</td>\n",
       "      <td>view_search_results</td>\n",
       "      <td>Windows Desktop</td>\n",
       "      <td>67753</td>\n",
       "    </tr>\n",
       "    <tr>\n",
       "      <th>2</th>\n",
       "      <td>d1mm9tcy42</td>\n",
       "      <td>lookup</td>\n",
       "      <td>NaN</td>\n",
       "      <td>NaN</td>\n",
       "      <td>Windows Desktop</td>\n",
       "      <td>301</td>\n",
       "    </tr>\n",
       "    <tr>\n",
       "      <th>3</th>\n",
       "      <td>d1mm9tcy42</td>\n",
       "      <td>search_results</td>\n",
       "      <td>click</td>\n",
       "      <td>view_search_results</td>\n",
       "      <td>Windows Desktop</td>\n",
       "      <td>22141</td>\n",
       "    </tr>\n",
       "    <tr>\n",
       "      <th>4</th>\n",
       "      <td>d1mm9tcy42</td>\n",
       "      <td>lookup</td>\n",
       "      <td>NaN</td>\n",
       "      <td>NaN</td>\n",
       "      <td>Windows Desktop</td>\n",
       "      <td>435</td>\n",
       "    </tr>\n",
       "    <tr>\n",
       "      <th>5</th>\n",
       "      <td>d1mm9tcy42</td>\n",
       "      <td>search_results</td>\n",
       "      <td>click</td>\n",
       "      <td>view_search_results</td>\n",
       "      <td>Windows Desktop</td>\n",
       "      <td>7703</td>\n",
       "    </tr>\n",
       "    <tr>\n",
       "      <th>6</th>\n",
       "      <td>d1mm9tcy42</td>\n",
       "      <td>lookup</td>\n",
       "      <td>NaN</td>\n",
       "      <td>NaN</td>\n",
       "      <td>Windows Desktop</td>\n",
       "      <td>115</td>\n",
       "    </tr>\n",
       "    <tr>\n",
       "      <th>7</th>\n",
       "      <td>d1mm9tcy42</td>\n",
       "      <td>personalize</td>\n",
       "      <td>data</td>\n",
       "      <td>wishlist_content_update</td>\n",
       "      <td>Windows Desktop</td>\n",
       "      <td>831</td>\n",
       "    </tr>\n",
       "    <tr>\n",
       "      <th>8</th>\n",
       "      <td>d1mm9tcy42</td>\n",
       "      <td>index</td>\n",
       "      <td>view</td>\n",
       "      <td>view_search_results</td>\n",
       "      <td>Windows Desktop</td>\n",
       "      <td>20842</td>\n",
       "    </tr>\n",
       "    <tr>\n",
       "      <th>9</th>\n",
       "      <td>d1mm9tcy42</td>\n",
       "      <td>lookup</td>\n",
       "      <td>NaN</td>\n",
       "      <td>NaN</td>\n",
       "      <td>Windows Desktop</td>\n",
       "      <td>683</td>\n",
       "    </tr>\n",
       "    <tr>\n",
       "      <th>10</th>\n",
       "      <td>d1mm9tcy42</td>\n",
       "      <td>search_results</td>\n",
       "      <td>click</td>\n",
       "      <td>view_search_results</td>\n",
       "      <td>Windows Desktop</td>\n",
       "      <td>59274</td>\n",
       "    </tr>\n",
       "    <tr>\n",
       "      <th>11</th>\n",
       "      <td>d1mm9tcy42</td>\n",
       "      <td>lookup</td>\n",
       "      <td>NaN</td>\n",
       "      <td>NaN</td>\n",
       "      <td>Windows Desktop</td>\n",
       "      <td>95</td>\n",
       "    </tr>\n",
       "    <tr>\n",
       "      <th>12</th>\n",
       "      <td>d1mm9tcy42</td>\n",
       "      <td>personalize</td>\n",
       "      <td>data</td>\n",
       "      <td>wishlist_content_update</td>\n",
       "      <td>Windows Desktop</td>\n",
       "      <td>1399</td>\n",
       "    </tr>\n",
       "    <tr>\n",
       "      <th>13</th>\n",
       "      <td>d1mm9tcy42</td>\n",
       "      <td>index</td>\n",
       "      <td>view</td>\n",
       "      <td>view_search_results</td>\n",
       "      <td>Windows Desktop</td>\n",
       "      <td>74886</td>\n",
       "    </tr>\n",
       "    <tr>\n",
       "      <th>14</th>\n",
       "      <td>d1mm9tcy42</td>\n",
       "      <td>similar_listings</td>\n",
       "      <td>data</td>\n",
       "      <td>similar_listings</td>\n",
       "      <td>Windows Desktop</td>\n",
       "      <td>255</td>\n",
       "    </tr>\n",
       "    <tr>\n",
       "      <th>15</th>\n",
       "      <td>d1mm9tcy42</td>\n",
       "      <td>ajax_refresh_subtotal</td>\n",
       "      <td>click</td>\n",
       "      <td>change_trip_characteristics</td>\n",
       "      <td>Windows Desktop</td>\n",
       "      <td>8134</td>\n",
       "    </tr>\n",
       "    <tr>\n",
       "      <th>16</th>\n",
       "      <td>d1mm9tcy42</td>\n",
       "      <td>similar_listings</td>\n",
       "      <td>data</td>\n",
       "      <td>similar_listings</td>\n",
       "      <td>Windows Desktop</td>\n",
       "      <td>183</td>\n",
       "    </tr>\n",
       "    <tr>\n",
       "      <th>17</th>\n",
       "      <td>d1mm9tcy42</td>\n",
       "      <td>ajax_refresh_subtotal</td>\n",
       "      <td>click</td>\n",
       "      <td>change_trip_characteristics</td>\n",
       "      <td>Windows Desktop</td>\n",
       "      <td>175570</td>\n",
       "    </tr>\n",
       "    <tr>\n",
       "      <th>18</th>\n",
       "      <td>d1mm9tcy42</td>\n",
       "      <td>show</td>\n",
       "      <td>NaN</td>\n",
       "      <td>NaN</td>\n",
       "      <td>Windows Desktop</td>\n",
       "      <td>86</td>\n",
       "    </tr>\n",
       "    <tr>\n",
       "      <th>19</th>\n",
       "      <td>d1mm9tcy42</td>\n",
       "      <td>personalize</td>\n",
       "      <td>data</td>\n",
       "      <td>wishlist_content_update</td>\n",
       "      <td>Windows Desktop</td>\n",
       "      <td>1535</td>\n",
       "    </tr>\n",
       "  </tbody>\n",
       "</table>\n",
       "</div>"
      ],
      "text/plain": [
       "       user_id                 action action_type  \\\n",
       "0   d1mm9tcy42                 lookup         NaN   \n",
       "1   d1mm9tcy42         search_results       click   \n",
       "2   d1mm9tcy42                 lookup         NaN   \n",
       "3   d1mm9tcy42         search_results       click   \n",
       "4   d1mm9tcy42                 lookup         NaN   \n",
       "5   d1mm9tcy42         search_results       click   \n",
       "6   d1mm9tcy42                 lookup         NaN   \n",
       "7   d1mm9tcy42            personalize        data   \n",
       "8   d1mm9tcy42                  index        view   \n",
       "9   d1mm9tcy42                 lookup         NaN   \n",
       "10  d1mm9tcy42         search_results       click   \n",
       "11  d1mm9tcy42                 lookup         NaN   \n",
       "12  d1mm9tcy42            personalize        data   \n",
       "13  d1mm9tcy42                  index        view   \n",
       "14  d1mm9tcy42       similar_listings        data   \n",
       "15  d1mm9tcy42  ajax_refresh_subtotal       click   \n",
       "16  d1mm9tcy42       similar_listings        data   \n",
       "17  d1mm9tcy42  ajax_refresh_subtotal       click   \n",
       "18  d1mm9tcy42                   show         NaN   \n",
       "19  d1mm9tcy42            personalize        data   \n",
       "\n",
       "                  action_detail      device_type  secs_elapsed  \n",
       "0                           NaN  Windows Desktop           319  \n",
       "1           view_search_results  Windows Desktop         67753  \n",
       "2                           NaN  Windows Desktop           301  \n",
       "3           view_search_results  Windows Desktop         22141  \n",
       "4                           NaN  Windows Desktop           435  \n",
       "5           view_search_results  Windows Desktop          7703  \n",
       "6                           NaN  Windows Desktop           115  \n",
       "7       wishlist_content_update  Windows Desktop           831  \n",
       "8           view_search_results  Windows Desktop         20842  \n",
       "9                           NaN  Windows Desktop           683  \n",
       "10          view_search_results  Windows Desktop         59274  \n",
       "11                          NaN  Windows Desktop            95  \n",
       "12      wishlist_content_update  Windows Desktop          1399  \n",
       "13          view_search_results  Windows Desktop         74886  \n",
       "14             similar_listings  Windows Desktop           255  \n",
       "15  change_trip_characteristics  Windows Desktop          8134  \n",
       "16             similar_listings  Windows Desktop           183  \n",
       "17  change_trip_characteristics  Windows Desktop        175570  \n",
       "18                          NaN  Windows Desktop            86  \n",
       "19      wishlist_content_update  Windows Desktop          1535  "
      ]
     },
     "execution_count": 16,
     "metadata": {},
     "output_type": "execute_result"
    }
   ],
   "source": [
    "# Looking at the datasets\n",
    "orig_sessions.head(n=20)"
   ]
  },
  {
   "cell_type": "code",
   "execution_count": 22,
   "metadata": {
    "collapsed": false
   },
   "outputs": [],
   "source": [
    "## changing categorical features into Category types\n",
    "# for user sum. stats dataset\n",
    "orig_users_sum_stats['age_bucket'] = orig_users_sum_stats['age_bucket'].astype('category')\n",
    "orig_users_sum_stats['country_destination'] = orig_users_sum_stats['country_destination'].astype('category')\n",
    "orig_users_sum_stats['gender'] = orig_users_sum_stats['gender'].astype('category')\n",
    "orig_users_sum_stats['year'] = orig_users_sum_stats['year'].astype('category')\n",
    "# for sessions dataset\n",
    "orig_sessions['action'] = orig_sessions['action'].astype('category')\n",
    "orig_sessions['action_type'] = orig_sessions['action_type'].astype('category')\n",
    "orig_sessions['action_detail'] = orig_sessions['action_detail'].astype('category')\n",
    "orig_sessions['device_type'] = orig_sessions['device_type'].astype('category')\n",
    "# for country sum. stats dataset\n",
    "orig_countries_sum_stats['country_destination'] = orig_countries_sum_stats['country_destination'].astype('category')\n",
    "orig_countries_sum_stats['destination_language '] = orig_countries_sum_stats['destination_language '].astype('category')\n",
    "# for train user datasets\n",
    "orig_train_users['gender'] = orig_train_users['gender'].astype('category')\n",
    "orig_train_users['signup_method'] = orig_train_users['signup_method'].astype('category')\n",
    "orig_train_users['language'] = orig_train_users['language'].astype('category')\n",
    "orig_train_users['affiliate_channel'] = orig_train_users['affiliate_channel'].astype('category')\n",
    "orig_train_users['affiliate_provider'] = orig_train_users['affiliate_provider'].astype('category')\n",
    "orig_train_users['first_affiliate_tracked'] = orig_train_users['first_affiliate_tracked'].astype('category')\n",
    "orig_train_users['signup_app'] = orig_train_users['signup_app'].astype('category')\n",
    "orig_train_users['first_device_type'] = orig_train_users['first_device_type'].astype('category')\n",
    "orig_train_users['first_browser'] = orig_train_users['first_browser'].astype('category')\n",
    "orig_train_users['country_destination'] = orig_train_users['country_destination'].astype('category')\n",
    "# for test user datasets\n",
    "orig_test_users['gender'] = orig_test_users['gender'].astype('category')\n",
    "orig_test_users['signup_method'] = orig_test_users['signup_method'].astype('category')\n",
    "orig_test_users['language'] = orig_test_users['language'].astype('category')\n",
    "orig_test_users['affiliate_channel'] = orig_test_users['affiliate_channel'].astype('category')\n",
    "orig_test_users['affiliate_provider'] = orig_test_users['affiliate_provider'].astype('category')\n",
    "orig_test_users['first_affiliate_tracked'] = orig_test_users['first_affiliate_tracked'].astype('category')\n",
    "orig_test_users['signup_app'] = orig_test_users['signup_app'].astype('category')\n",
    "orig_test_users['first_device_type'] = orig_test_users['first_device_type'].astype('category')\n",
    "orig_test_users['first_browser'] = orig_test_users['first_browser'].astype('category')"
   ]
  },
  {
   "cell_type": "code",
   "execution_count": 83,
   "metadata": {
    "collapsed": false
   },
   "outputs": [
    {
     "data": {
      "text/plain": [
       "0    2015\n",
       "1    2015\n",
       "2    2015\n",
       "3    2015\n",
       "4    2015\n",
       "Name: year, dtype: category\n",
       "Categories (1, float64): [2015]"
      ]
     },
     "execution_count": 83,
     "metadata": {},
     "output_type": "execute_result"
    }
   ],
   "source": [
    "## Looking at the levels of the categories\n",
    "# the test dataset\n",
    "orig_test_users['gender'].head() # [-unknown-, FEMALE, MALE, OTHER]\n",
    "orig_test_users['signup_method'].head() # [basic, facebook, google, weibo]\n",
    "orig_test_users['language'].head() # Categories (24, object): [-unknown-, ca, cs, da, ..., sv, th, tr, zh]\n",
    "orig_test_users['affiliate_channel'].head() # [content, direct, other, remarketing, sem-brand, sem-non-brand, seo]\n",
    "orig_test_users['affiliate_provider'].head() # Categories (17, object): [baidu, bing, craigslist, daum, ..., padmapper, vast, yahoo, yandex]\n",
    "orig_test_users['first_affiliate_tracked'].head() # [linked, local ops, marketing, omg, product, tracked-other, untracked]\n",
    "orig_test_users['signup_app'].head() # [Android, Moweb, Web, iOS]\n",
    "orig_test_users['first_device_type'].head() # Categories (9, object): [Android Phone, Android Tablet, Desktop (Other), Mac Desktop, ..., SmartPhone (Other), Windows Desktop, iPad, iPhone]\n",
    "orig_test_users['first_browser'].head() # Categories (31, object): [-unknown-, AOL Explorer, Android Browser, Apple Mail, ..., Sogou Explorer, UC Browser, Yandex.Browser, wOSBrowser]\n",
    "# the train dataset's country_destination target variable\n",
    "orig_train_users['country_destination'].head() # Categories (12, object): [AU, CA, DE, ES, ..., NL, PT, US, other]\n",
    "# the sessions dataset\n",
    "orig_sessions['action'].head() # Categories (359, object): [10, 11, 12, 15, ..., why_host, widget, wishlists, zendesk_login_jwt]\n",
    "orig_sessions['action_type'].head() # Categories (10, object): [-unknown-, booking_request, booking_response, click, ..., modify, partner_callback, submit, view]\n",
    "orig_sessions['action_detail'].head() # Categories (155, object): [-unknown-, account_notification_settings, account_payment_methods, account_payout_preferences, ..., wishlist_note, your_listings, your_reservations, your_trips]\n",
    "orig_sessions['device_type'].head() # Categories (14, object): [-unknown-, Android App Unknown Phone/Tablet, Android Phone, Blackberry, ..., Windows Phone, iPad Tablet, iPhone, iPodtouch]\n",
    "# the countries sum stats dataset\n",
    "orig_countries_sum_stats['country_destination'].head() # Categories (10, object): [AU, CA, DE, ES, ..., IT, NL, PT, US]\n",
    "orig_countries_sum_stats['destination_language '].head() # [deu, eng, fra, ita, nld, por, spa]\n",
    "# the users sum stats dataset\n",
    "orig_users_sum_stats['age_bucket'].head() # Categories (21, object): [0-4, 10-14, 100+, 15-19, ..., 80-84, 85-89, 90-94, 95-99]\n",
    "orig_users_sum_stats['country_destination'].head() # Categories (10, object): [AU, CA, DE, ES, ..., IT, NL, PT, US]\n",
    "orig_users_sum_stats['gender'].head() # [female, male]\n",
    "orig_users_sum_stats['year'].head() # Categories (1, float64): [2015]    "
   ]
  },
  {
   "cell_type": "code",
   "execution_count": 45,
   "metadata": {
    "collapsed": false
   },
   "outputs": [],
   "source": [
    "## changing date and timestamp features into datetime types\n",
    "# for test user datasets\n",
    "orig_test_users['date_account_created'] = pd.to_datetime(orig_test_users['date_account_created'])\n",
    "orig_test_users['date_first_booking'] = pd.to_datetime(orig_test_users['date_first_booking'])\n",
    "orig_test_users['timestamp_first_active'] = pd.to_datetime(orig_test_users['timestamp_first_active'], format='%Y%m%d%H%M%S')\n",
    "orig_train_users['date_account_created'] = pd.to_datetime(orig_train_users['date_account_created'])\n",
    "orig_train_users['date_first_booking'] = pd.to_datetime(orig_train_users['date_first_booking'])\n",
    "orig_train_users['timestamp_first_active'] = pd.to_datetime(orig_train_users['timestamp_first_active'], format='%Y%m%d%H%M%S')"
   ]
  },
  {
   "cell_type": "code",
   "execution_count": 91,
   "metadata": {
    "collapsed": false
   },
   "outputs": [
    {
     "name": "stdout",
     "output_type": "stream",
     "text": [
      "We have 213451 users in the training set and 62096 in the test set.\n",
      "In total we have 275547 users.\n"
     ]
    }
   ],
   "source": [
    "print ('We have ' + str(orig_train_users.shape[0]) + ' users in the training set and ' + \n",
    "      str(orig_test_users.shape[0]) + ' in the test set.')\n",
    "print ('In total we have ' + str(orig_train_users.shape[0] + orig_test_users.shape[0]) + ' users.')"
   ]
  },
  {
   "cell_type": "code",
   "execution_count": 93,
   "metadata": {
    "collapsed": false
   },
   "outputs": [
    {
     "data": {
      "text/plain": [
       "id                                 object\n",
       "date_account_created       datetime64[ns]\n",
       "timestamp_first_active     datetime64[ns]\n",
       "date_first_booking         datetime64[ns]\n",
       "gender                           category\n",
       "age                               float64\n",
       "signup_method                    category\n",
       "signup_flow                         int64\n",
       "language                         category\n",
       "affiliate_channel                category\n",
       "affiliate_provider               category\n",
       "first_affiliate_tracked          category\n",
       "signup_app                       category\n",
       "first_device_type                category\n",
       "first_browser                    category\n",
       "country_destination              category\n",
       "dtype: object"
      ]
     },
     "execution_count": 93,
     "metadata": {},
     "output_type": "execute_result"
    }
   ],
   "source": [
    "orig_train_users.dtypes"
   ]
  },
  {
   "cell_type": "code",
   "execution_count": 94,
   "metadata": {
    "collapsed": false
   },
   "outputs": [
    {
     "data": {
      "text/plain": [
       "id                                 object\n",
       "date_account_created       datetime64[ns]\n",
       "timestamp_first_active     datetime64[ns]\n",
       "date_first_booking         datetime64[ns]\n",
       "gender                           category\n",
       "age                               float64\n",
       "signup_method                    category\n",
       "signup_flow                         int64\n",
       "language                         category\n",
       "affiliate_channel                category\n",
       "affiliate_provider               category\n",
       "first_affiliate_tracked          category\n",
       "signup_app                       category\n",
       "first_device_type                category\n",
       "first_browser                    category\n",
       "dtype: object"
      ]
     },
     "execution_count": 94,
     "metadata": {},
     "output_type": "execute_result"
    }
   ],
   "source": [
    "orig_test_users.dtypes"
   ]
  },
  {
   "cell_type": "code",
   "execution_count": 98,
   "metadata": {
    "collapsed": false
   },
   "outputs": [
    {
     "ename": "ValueError",
     "evalue": "incompatible categories in categorical concat",
     "output_type": "error",
     "traceback": [
      "\u001b[0;31m---------------------------------------------------------------------------\u001b[0m",
      "\u001b[0;31mValueError\u001b[0m                                Traceback (most recent call last)",
      "\u001b[0;32m<ipython-input-98-2772bf7cc698>\u001b[0m in \u001b[0;36m<module>\u001b[0;34m()\u001b[0m\n\u001b[1;32m      1\u001b[0m \u001b[0;31m#sqldf('select * from df;', locals())\u001b[0m\u001b[0;34m\u001b[0m\u001b[0;34m\u001b[0m\u001b[0m\n\u001b[1;32m      2\u001b[0m \u001b[0;31m# Merge train and test users\u001b[0m\u001b[0;34m\u001b[0m\u001b[0;34m\u001b[0m\u001b[0m\n\u001b[0;32m----> 3\u001b[0;31m \u001b[0musers\u001b[0m \u001b[0;34m=\u001b[0m \u001b[0mpd\u001b[0m\u001b[0;34m.\u001b[0m\u001b[0mconcat\u001b[0m\u001b[0;34m(\u001b[0m\u001b[0;34m(\u001b[0m\u001b[0morig_train_users\u001b[0m\u001b[0;34m,\u001b[0m \u001b[0morig_test_users\u001b[0m\u001b[0;34m)\u001b[0m\u001b[0;34m,\u001b[0m \u001b[0maxis\u001b[0m\u001b[0;34m=\u001b[0m\u001b[0;36m0\u001b[0m\u001b[0;34m,\u001b[0m \u001b[0mignore_index\u001b[0m\u001b[0;34m=\u001b[0m\u001b[0mTrue\u001b[0m\u001b[0;34m)\u001b[0m\u001b[0;34m\u001b[0m\u001b[0m\n\u001b[0m",
      "\u001b[0;32m/Users/nicholaslipanovich/anaconda/lib/python2.7/site-packages/pandas/tools/merge.pyc\u001b[0m in \u001b[0;36mconcat\u001b[0;34m(objs, axis, join, join_axes, ignore_index, keys, levels, names, verify_integrity, copy)\u001b[0m\n\u001b[1;32m    811\u001b[0m                        \u001b[0mverify_integrity\u001b[0m\u001b[0;34m=\u001b[0m\u001b[0mverify_integrity\u001b[0m\u001b[0;34m,\u001b[0m\u001b[0;34m\u001b[0m\u001b[0m\n\u001b[1;32m    812\u001b[0m                        copy=copy)\n\u001b[0;32m--> 813\u001b[0;31m     \u001b[0;32mreturn\u001b[0m \u001b[0mop\u001b[0m\u001b[0;34m.\u001b[0m\u001b[0mget_result\u001b[0m\u001b[0;34m(\u001b[0m\u001b[0;34m)\u001b[0m\u001b[0;34m\u001b[0m\u001b[0m\n\u001b[0m\u001b[1;32m    814\u001b[0m \u001b[0;34m\u001b[0m\u001b[0m\n\u001b[1;32m    815\u001b[0m \u001b[0;34m\u001b[0m\u001b[0m\n",
      "\u001b[0;32m/Users/nicholaslipanovich/anaconda/lib/python2.7/site-packages/pandas/tools/merge.pyc\u001b[0m in \u001b[0;36mget_result\u001b[0;34m(self)\u001b[0m\n\u001b[1;32m    993\u001b[0m \u001b[0;34m\u001b[0m\u001b[0m\n\u001b[1;32m    994\u001b[0m             new_data = concatenate_block_managers(\n\u001b[0;32m--> 995\u001b[0;31m                 mgrs_indexers, self.new_axes, concat_axis=self.axis, copy=self.copy)\n\u001b[0m\u001b[1;32m    996\u001b[0m             \u001b[0;32mif\u001b[0m \u001b[0;32mnot\u001b[0m \u001b[0mself\u001b[0m\u001b[0;34m.\u001b[0m\u001b[0mcopy\u001b[0m\u001b[0;34m:\u001b[0m\u001b[0;34m\u001b[0m\u001b[0m\n\u001b[1;32m    997\u001b[0m                 \u001b[0mnew_data\u001b[0m\u001b[0;34m.\u001b[0m\u001b[0m_consolidate_inplace\u001b[0m\u001b[0;34m(\u001b[0m\u001b[0;34m)\u001b[0m\u001b[0;34m\u001b[0m\u001b[0m\n",
      "\u001b[0;32m/Users/nicholaslipanovich/anaconda/lib/python2.7/site-packages/pandas/core/internals.pyc\u001b[0m in \u001b[0;36mconcatenate_block_managers\u001b[0;34m(mgrs_indexers, axes, concat_axis, copy)\u001b[0m\n\u001b[1;32m   4454\u001b[0m                                                 copy=copy),\n\u001b[1;32m   4455\u001b[0m                          placement=placement)\n\u001b[0;32m-> 4456\u001b[0;31m               for placement, join_units in concat_plan]\n\u001b[0m\u001b[1;32m   4457\u001b[0m \u001b[0;34m\u001b[0m\u001b[0m\n\u001b[1;32m   4458\u001b[0m     \u001b[0;32mreturn\u001b[0m \u001b[0mBlockManager\u001b[0m\u001b[0;34m(\u001b[0m\u001b[0mblocks\u001b[0m\u001b[0;34m,\u001b[0m \u001b[0maxes\u001b[0m\u001b[0;34m)\u001b[0m\u001b[0;34m\u001b[0m\u001b[0m\n",
      "\u001b[0;32m/Users/nicholaslipanovich/anaconda/lib/python2.7/site-packages/pandas/core/internals.pyc\u001b[0m in \u001b[0;36mconcatenate_join_units\u001b[0;34m(join_units, concat_axis, copy)\u001b[0m\n\u001b[1;32m   4559\u001b[0m             \u001b[0mconcat_values\u001b[0m \u001b[0;34m=\u001b[0m \u001b[0mconcat_values\u001b[0m\u001b[0;34m.\u001b[0m\u001b[0mcopy\u001b[0m\u001b[0;34m(\u001b[0m\u001b[0;34m)\u001b[0m\u001b[0;34m\u001b[0m\u001b[0m\n\u001b[1;32m   4560\u001b[0m     \u001b[0;32melse\u001b[0m\u001b[0;34m:\u001b[0m\u001b[0;34m\u001b[0m\u001b[0m\n\u001b[0;32m-> 4561\u001b[0;31m         \u001b[0mconcat_values\u001b[0m \u001b[0;34m=\u001b[0m \u001b[0mcom\u001b[0m\u001b[0;34m.\u001b[0m\u001b[0m_concat_compat\u001b[0m\u001b[0;34m(\u001b[0m\u001b[0mto_concat\u001b[0m\u001b[0;34m,\u001b[0m \u001b[0maxis\u001b[0m\u001b[0;34m=\u001b[0m\u001b[0mconcat_axis\u001b[0m\u001b[0;34m)\u001b[0m\u001b[0;34m\u001b[0m\u001b[0m\n\u001b[0m\u001b[1;32m   4562\u001b[0m \u001b[0;34m\u001b[0m\u001b[0m\n\u001b[1;32m   4563\u001b[0m     \u001b[0;32mreturn\u001b[0m \u001b[0mconcat_values\u001b[0m\u001b[0;34m\u001b[0m\u001b[0m\n",
      "\u001b[0;32m/Users/nicholaslipanovich/anaconda/lib/python2.7/site-packages/pandas/core/common.pyc\u001b[0m in \u001b[0;36m_concat_compat\u001b[0;34m(to_concat, axis)\u001b[0m\n\u001b[1;32m   2554\u001b[0m     \u001b[0;32melif\u001b[0m \u001b[0;34m'category'\u001b[0m \u001b[0;32min\u001b[0m \u001b[0mtyps\u001b[0m\u001b[0;34m:\u001b[0m\u001b[0;34m\u001b[0m\u001b[0m\n\u001b[1;32m   2555\u001b[0m         \u001b[0;32mfrom\u001b[0m \u001b[0mpandas\u001b[0m\u001b[0;34m.\u001b[0m\u001b[0mcore\u001b[0m\u001b[0;34m.\u001b[0m\u001b[0mcategorical\u001b[0m \u001b[0;32mimport\u001b[0m \u001b[0m_concat_compat\u001b[0m\u001b[0;34m\u001b[0m\u001b[0m\n\u001b[0;32m-> 2556\u001b[0;31m         \u001b[0;32mreturn\u001b[0m \u001b[0m_concat_compat\u001b[0m\u001b[0;34m(\u001b[0m\u001b[0mto_concat\u001b[0m\u001b[0;34m,\u001b[0m \u001b[0maxis\u001b[0m\u001b[0;34m=\u001b[0m\u001b[0maxis\u001b[0m\u001b[0;34m)\u001b[0m\u001b[0;34m\u001b[0m\u001b[0m\n\u001b[0m\u001b[1;32m   2557\u001b[0m \u001b[0;34m\u001b[0m\u001b[0m\n\u001b[1;32m   2558\u001b[0m     \u001b[0;32mif\u001b[0m \u001b[0;32mnot\u001b[0m \u001b[0mnonempty\u001b[0m\u001b[0;34m:\u001b[0m\u001b[0;34m\u001b[0m\u001b[0m\n",
      "\u001b[0;32m/Users/nicholaslipanovich/anaconda/lib/python2.7/site-packages/pandas/core/categorical.pyc\u001b[0m in \u001b[0;36m_concat_compat\u001b[0;34m(to_concat, axis)\u001b[0m\n\u001b[1;32m   1875\u001b[0m     \u001b[0;32mfor\u001b[0m \u001b[0mx\u001b[0m \u001b[0;32min\u001b[0m \u001b[0mcategoricals\u001b[0m\u001b[0;34m[\u001b[0m\u001b[0;36m1\u001b[0m\u001b[0;34m:\u001b[0m\u001b[0;34m]\u001b[0m\u001b[0;34m:\u001b[0m\u001b[0;34m\u001b[0m\u001b[0m\n\u001b[1;32m   1876\u001b[0m         \u001b[0;32mif\u001b[0m \u001b[0;32mnot\u001b[0m \u001b[0mcategories\u001b[0m\u001b[0;34m.\u001b[0m\u001b[0mis_dtype_equal\u001b[0m\u001b[0;34m(\u001b[0m\u001b[0mx\u001b[0m\u001b[0;34m)\u001b[0m\u001b[0;34m:\u001b[0m\u001b[0;34m\u001b[0m\u001b[0m\n\u001b[0;32m-> 1877\u001b[0;31m             \u001b[0;32mraise\u001b[0m \u001b[0mValueError\u001b[0m\u001b[0;34m(\u001b[0m\u001b[0;34m\"incompatible categories in categorical concat\"\u001b[0m\u001b[0;34m)\u001b[0m\u001b[0;34m\u001b[0m\u001b[0m\n\u001b[0m\u001b[1;32m   1878\u001b[0m \u001b[0;34m\u001b[0m\u001b[0m\n\u001b[1;32m   1879\u001b[0m     \u001b[0;31m# we've already checked that all categoricals are the same, so if their\u001b[0m\u001b[0;34m\u001b[0m\u001b[0;34m\u001b[0m\u001b[0m\n",
      "\u001b[0;31mValueError\u001b[0m: incompatible categories in categorical concat"
     ]
    }
   ],
   "source": [
    "#sqldf('select * from df;', locals())\n",
    "# Merge train and test users\n",
    "users = pd.concat((orig_train_users, orig_test_users), axis=0, ignore_index=True)"
   ]
  },
  {
   "cell_type": "code",
   "execution_count": null,
   "metadata": {
    "collapsed": true
   },
   "outputs": [],
   "source": [
    "# Creating new version of the dataset to manipulate\n",
    "new_train = orig_train\n",
    "new_test = orig_test\n",
    "# Making triptype, weekday, departmentdescription, visitnumber, and finelinenumber categories\n",
    "new_train.dtypes"
   ]
  }
 ],
 "metadata": {
  "kernelspec": {
   "display_name": "Python 2",
   "language": "python",
   "name": "python2"
  },
  "language_info": {
   "codemirror_mode": {
    "name": "ipython",
    "version": 2
   },
   "file_extension": ".py",
   "mimetype": "text/x-python",
   "name": "python",
   "nbconvert_exporter": "python",
   "pygments_lexer": "ipython2",
   "version": "2.7.11"
  }
 },
 "nbformat": 4,
 "nbformat_minor": 0
}
